{
 "cells": [
  {
   "cell_type": "code",
   "execution_count": 1,
   "id": "b690671e",
   "metadata": {},
   "outputs": [],
   "source": [
    "### Investigation on credit risk migration in terms of Risk Weight"
   ]
  },
  {
   "cell_type": "code",
   "execution_count": 2,
   "id": "271b87eb",
   "metadata": {},
   "outputs": [],
   "source": [
    "import pandas as pd\n",
    "import numpy as np\n",
    "import matplotlib.pyplot as plt\n",
    "import seaborn as sns\n",
    "import plotly.express as px\n",
    "import warnings\n",
    "%matplotlib inline\n",
    "warnings.filterwarnings('ignore')"
   ]
  },
  {
   "cell_type": "code",
   "execution_count": 3,
   "id": "5b87a216",
   "metadata": {},
   "outputs": [],
   "source": [
    "df=pd.read_csv(\"Dataset.csv\")"
   ]
  },
  {
   "cell_type": "code",
   "execution_count": 4,
   "id": "f3a4e293",
   "metadata": {},
   "outputs": [
    {
     "data": {
      "text/html": [
       "<div>\n",
       "<style scoped>\n",
       "    .dataframe tbody tr th:only-of-type {\n",
       "        vertical-align: middle;\n",
       "    }\n",
       "\n",
       "    .dataframe tbody tr th {\n",
       "        vertical-align: top;\n",
       "    }\n",
       "\n",
       "    .dataframe thead th {\n",
       "        text-align: right;\n",
       "    }\n",
       "</style>\n",
       "<table border=\"1\" class=\"dataframe\">\n",
       "  <thead>\n",
       "    <tr style=\"text-align: right;\">\n",
       "      <th></th>\n",
       "      <th>PERIOD</th>\n",
       "      <th>CUSTOMER_ID</th>\n",
       "      <th>BRANCH</th>\n",
       "      <th>APPROACH</th>\n",
       "      <th>RATING</th>\n",
       "      <th>PD</th>\n",
       "      <th>LGD</th>\n",
       "      <th>ORIGINAL_EXPOSURE</th>\n",
       "      <th>EAD_AMOUNT</th>\n",
       "      <th>RWA</th>\n",
       "      <th>EXPECTED_LOSS</th>\n",
       "    </tr>\n",
       "  </thead>\n",
       "  <tbody>\n",
       "    <tr>\n",
       "      <th>0</th>\n",
       "      <td>Period1</td>\n",
       "      <td>H136768</td>\n",
       "      <td>Sydney</td>\n",
       "      <td>AIRB</td>\n",
       "      <td>PC2</td>\n",
       "      <td>0.07060</td>\n",
       "      <td>0.316</td>\n",
       "      <td>50000.0</td>\n",
       "      <td>4250.0</td>\n",
       "      <td>4832.7</td>\n",
       "      <td>94.8</td>\n",
       "    </tr>\n",
       "    <tr>\n",
       "      <th>1</th>\n",
       "      <td>Period2</td>\n",
       "      <td>H136768</td>\n",
       "      <td>Sydney</td>\n",
       "      <td>AIRB</td>\n",
       "      <td>PC2</td>\n",
       "      <td>0.07060</td>\n",
       "      <td>0.316</td>\n",
       "      <td>50000.0</td>\n",
       "      <td>25000.0</td>\n",
       "      <td>28235.2</td>\n",
       "      <td>557.7</td>\n",
       "    </tr>\n",
       "    <tr>\n",
       "      <th>2</th>\n",
       "      <td>Period1</td>\n",
       "      <td>G136767</td>\n",
       "      <td>Sydney</td>\n",
       "      <td>AIRB</td>\n",
       "      <td>PC0+</td>\n",
       "      <td>1.00000</td>\n",
       "      <td>0.316</td>\n",
       "      <td>1000.0</td>\n",
       "      <td>0.0</td>\n",
       "      <td>0.0</td>\n",
       "      <td>0.0</td>\n",
       "    </tr>\n",
       "    <tr>\n",
       "      <th>3</th>\n",
       "      <td>Period2</td>\n",
       "      <td>G136767</td>\n",
       "      <td>Sydney</td>\n",
       "      <td>AIRB</td>\n",
       "      <td>PC0+</td>\n",
       "      <td>1.00000</td>\n",
       "      <td>0.316</td>\n",
       "      <td>900.0</td>\n",
       "      <td>0.0</td>\n",
       "      <td>0.0</td>\n",
       "      <td>0.0</td>\n",
       "    </tr>\n",
       "    <tr>\n",
       "      <th>4</th>\n",
       "      <td>Period2</td>\n",
       "      <td>C136711</td>\n",
       "      <td>Sydney</td>\n",
       "      <td>AIRB</td>\n",
       "      <td>PC0+</td>\n",
       "      <td>1.00000</td>\n",
       "      <td>0.316</td>\n",
       "      <td>241.4</td>\n",
       "      <td>0.0</td>\n",
       "      <td>0.0</td>\n",
       "      <td>0.0</td>\n",
       "    </tr>\n",
       "    <tr>\n",
       "      <th>...</th>\n",
       "      <td>...</td>\n",
       "      <td>...</td>\n",
       "      <td>...</td>\n",
       "      <td>...</td>\n",
       "      <td>...</td>\n",
       "      <td>...</td>\n",
       "      <td>...</td>\n",
       "      <td>...</td>\n",
       "      <td>...</td>\n",
       "      <td>...</td>\n",
       "      <td>...</td>\n",
       "    </tr>\n",
       "    <tr>\n",
       "      <th>1604416</th>\n",
       "      <td>Period2</td>\n",
       "      <td>V341740</td>\n",
       "      <td>Kuala Lumpur</td>\n",
       "      <td>FIRB</td>\n",
       "      <td>PC4</td>\n",
       "      <td>0.00353</td>\n",
       "      <td>0.450</td>\n",
       "      <td>783.8</td>\n",
       "      <td>783.8</td>\n",
       "      <td>490.3</td>\n",
       "      <td>1.2</td>\n",
       "    </tr>\n",
       "    <tr>\n",
       "      <th>1604417</th>\n",
       "      <td>Period2</td>\n",
       "      <td>C341721</td>\n",
       "      <td>Kuala Lumpur</td>\n",
       "      <td>FIRB</td>\n",
       "      <td>PC4</td>\n",
       "      <td>0.00353</td>\n",
       "      <td>0.450</td>\n",
       "      <td>921.6</td>\n",
       "      <td>921.6</td>\n",
       "      <td>493.4</td>\n",
       "      <td>1.5</td>\n",
       "    </tr>\n",
       "    <tr>\n",
       "      <th>1604418</th>\n",
       "      <td>Period2</td>\n",
       "      <td>C341721</td>\n",
       "      <td>Kuala Lumpur</td>\n",
       "      <td>FIRB</td>\n",
       "      <td>PC4</td>\n",
       "      <td>0.00353</td>\n",
       "      <td>0.400</td>\n",
       "      <td>1400.7</td>\n",
       "      <td>1400.7</td>\n",
       "      <td>666.6</td>\n",
       "      <td>2.0</td>\n",
       "    </tr>\n",
       "    <tr>\n",
       "      <th>1604419</th>\n",
       "      <td>Period2</td>\n",
       "      <td>W341741</td>\n",
       "      <td>Kuala Lumpur</td>\n",
       "      <td>FIRB</td>\n",
       "      <td>PC3</td>\n",
       "      <td>0.01247</td>\n",
       "      <td>0.450</td>\n",
       "      <td>334.6</td>\n",
       "      <td>334.6</td>\n",
       "      <td>284.5</td>\n",
       "      <td>1.9</td>\n",
       "    </tr>\n",
       "    <tr>\n",
       "      <th>1604420</th>\n",
       "      <td>Period2</td>\n",
       "      <td>W341741</td>\n",
       "      <td>Kuala Lumpur</td>\n",
       "      <td>FIRB</td>\n",
       "      <td>PC3</td>\n",
       "      <td>0.01247</td>\n",
       "      <td>0.400</td>\n",
       "      <td>340.0</td>\n",
       "      <td>340.0</td>\n",
       "      <td>257.0</td>\n",
       "      <td>1.7</td>\n",
       "    </tr>\n",
       "  </tbody>\n",
       "</table>\n",
       "<p>1604421 rows × 11 columns</p>\n",
       "</div>"
      ],
      "text/plain": [
       "          PERIOD CUSTOMER_ID        BRANCH APPROACH RATING       PD    LGD  \\\n",
       "0        Period1     H136768        Sydney     AIRB    PC2  0.07060  0.316   \n",
       "1        Period2     H136768        Sydney     AIRB    PC2  0.07060  0.316   \n",
       "2        Period1     G136767        Sydney     AIRB   PC0+  1.00000  0.316   \n",
       "3        Period2     G136767        Sydney     AIRB   PC0+  1.00000  0.316   \n",
       "4        Period2     C136711        Sydney     AIRB   PC0+  1.00000  0.316   \n",
       "...          ...         ...           ...      ...    ...      ...    ...   \n",
       "1604416  Period2     V341740  Kuala Lumpur     FIRB    PC4  0.00353  0.450   \n",
       "1604417  Period2     C341721  Kuala Lumpur     FIRB    PC4  0.00353  0.450   \n",
       "1604418  Period2     C341721  Kuala Lumpur     FIRB    PC4  0.00353  0.400   \n",
       "1604419  Period2     W341741  Kuala Lumpur     FIRB    PC3  0.01247  0.450   \n",
       "1604420  Period2     W341741  Kuala Lumpur     FIRB    PC3  0.01247  0.400   \n",
       "\n",
       "         ORIGINAL_EXPOSURE  EAD_AMOUNT      RWA  EXPECTED_LOSS  \n",
       "0                  50000.0      4250.0   4832.7           94.8  \n",
       "1                  50000.0     25000.0  28235.2          557.7  \n",
       "2                   1000.0         0.0      0.0            0.0  \n",
       "3                    900.0         0.0      0.0            0.0  \n",
       "4                    241.4         0.0      0.0            0.0  \n",
       "...                    ...         ...      ...            ...  \n",
       "1604416              783.8       783.8    490.3            1.2  \n",
       "1604417              921.6       921.6    493.4            1.5  \n",
       "1604418             1400.7      1400.7    666.6            2.0  \n",
       "1604419              334.6       334.6    284.5            1.9  \n",
       "1604420              340.0       340.0    257.0            1.7  \n",
       "\n",
       "[1604421 rows x 11 columns]"
      ]
     },
     "execution_count": 4,
     "metadata": {},
     "output_type": "execute_result"
    }
   ],
   "source": [
    "df"
   ]
  },
  {
   "cell_type": "code",
   "execution_count": 5,
   "id": "cb066493",
   "metadata": {},
   "outputs": [],
   "source": [
    "df=df[df[\"EAD_AMOUNT\"]!=0]"
   ]
  },
  {
   "cell_type": "code",
   "execution_count": 6,
   "id": "55cf69e1",
   "metadata": {},
   "outputs": [],
   "source": [
    "df[\"Risk_Weight\"]= df[\"RWA\"]/df[\"EAD_AMOUNT\"]"
   ]
  },
  {
   "cell_type": "code",
   "execution_count": 7,
   "id": "a34b4196",
   "metadata": {},
   "outputs": [],
   "source": [
    "result=df.pivot_table(index=['CUSTOMER_ID'], columns='PERIOD', values=[\"Risk_Weight\",\"EXPECTED_LOSS\"],aggfunc=( 'mean',\"sum\"))"
   ]
  },
  {
   "cell_type": "code",
   "execution_count": 8,
   "id": "13fb5884",
   "metadata": {},
   "outputs": [],
   "source": [
    "result[\"diff_Risk_Weight\"]=result[(  'Risk_Weight', 'mean', 'Period2')]-result[(  'Risk_Weight', 'mean', 'Period1')]"
   ]
  },
  {
   "cell_type": "code",
   "execution_count": 9,
   "id": "d9fd34c3",
   "metadata": {},
   "outputs": [],
   "source": [
    "result[\"diff_EXPECTED_LOSS\"]=result[('EXPECTED_LOSS',  'sum', 'Period2')]-result[('EXPECTED_LOSS',  'sum', 'Period1')]"
   ]
  },
  {
   "cell_type": "code",
   "execution_count": 10,
   "id": "e2b9832f",
   "metadata": {},
   "outputs": [],
   "source": [
    "cols = [\"diff_Risk_Weight\",\"diff_EXPECTED_LOSS\"]\n",
    "cols_normalised = [col+\"_normalised\" for col in cols]\n",
    "t = result[cols].copy().reset_index()\n",
    "t[cols_normalised] = (t[cols])/(abs(t[cols]).max())"
   ]
  },
  {
   "cell_type": "code",
   "execution_count": 11,
   "id": "7b60a055",
   "metadata": {},
   "outputs": [
    {
     "data": {
      "image/png": "[encoded data removed]",
      "text/plain": [
       "<Figure size 432x288 with 1 Axes>"
      ]
     },
     "metadata": {
      "needs_background": "light"
     },
     "output_type": "display_data"
    }
   ],
   "source": [
    "plt.scatter(t[\"diff_Risk_Weight_normalised\"],t[\"diff_EXPECTED_LOSS_normalised\"])\n",
    "plt.show()"
   ]
  },
  {
   "cell_type": "code",
   "execution_count": 12,
   "id": "a6ef11be",
   "metadata": {},
   "outputs": [],
   "source": [
    "### The total amount of Risk Weight in period 1"
   ]
  },
  {
   "cell_type": "code",
   "execution_count": 13,
   "id": "e3b07b4f",
   "metadata": {},
   "outputs": [
    {
     "data": {
      "text/plain": [
       "0.46351510192647877"
      ]
     },
     "execution_count": 13,
     "metadata": {},
     "output_type": "execute_result"
    }
   ],
   "source": [
    "c=result[(  'Risk_Weight', 'mean', 'Period1')]\n",
    "a=c.mean()\n",
    "a"
   ]
  },
  {
   "cell_type": "code",
   "execution_count": 14,
   "id": "6f5a3c2e",
   "metadata": {},
   "outputs": [],
   "source": [
    "### The total amount of Risk Weight in period 2"
   ]
  },
  {
   "cell_type": "code",
   "execution_count": 15,
   "id": "c9b005c3",
   "metadata": {},
   "outputs": [
    {
     "data": {
      "text/plain": [
       "0.45904987847511847"
      ]
     },
     "execution_count": 15,
     "metadata": {},
     "output_type": "execute_result"
    }
   ],
   "source": [
    "c1=result[(  'Risk_Weight', 'mean', 'Period2')]\n",
    "a2=c1.mean()\n",
    "a2"
   ]
  },
  {
   "cell_type": "code",
   "execution_count": 16,
   "id": "346ce061",
   "metadata": {},
   "outputs": [],
   "source": [
    "### The total amount of Risk Weight for exist customers"
   ]
  },
  {
   "cell_type": "code",
   "execution_count": 17,
   "id": "9212b67f",
   "metadata": {},
   "outputs": [],
   "source": [
    "Exist_customer=result[(result[(  'Risk_Weight', 'mean', 'Period1')].notna()) & (result[(  'Risk_Weight', 'mean', 'Period2')].notna())]                                                                                                "
   ]
  },
  {
   "cell_type": "code",
   "execution_count": 18,
   "id": "53166c6c",
   "metadata": {},
   "outputs": [
    {
     "data": {
      "text/plain": [
       "0.4577234662069126"
      ]
     },
     "execution_count": 18,
     "metadata": {},
     "output_type": "execute_result"
    }
   ],
   "source": [
    "c3=Exist_customer[(  'Risk_Weight', 'mean', 'Period2')]\n",
    "a3=c3.mean()\n",
    "a3"
   ]
  },
  {
   "cell_type": "code",
   "execution_count": 19,
   "id": "ed35f263",
   "metadata": {},
   "outputs": [],
   "source": [
    "### The total amount of Risk Weight for new customers"
   ]
  },
  {
   "cell_type": "code",
   "execution_count": 20,
   "id": "f5295330",
   "metadata": {},
   "outputs": [],
   "source": [
    "New_customer=result[(result[(  'Risk_Weight', 'mean', 'Period1')].isna()) & (result[(  'Risk_Weight', 'mean', 'Period2')].notna())]                                                                                                "
   ]
  },
  {
   "cell_type": "code",
   "execution_count": 21,
   "id": "4522bac1",
   "metadata": {},
   "outputs": [
    {
     "data": {
      "text/plain": [
       "0.46483107783885314"
      ]
     },
     "execution_count": 21,
     "metadata": {},
     "output_type": "execute_result"
    }
   ],
   "source": [
    "c4=New_customer[(  'Risk_Weight', 'mean', 'Period2')]\n",
    "a4=c4.mean()\n",
    "a4"
   ]
  },
  {
   "cell_type": "code",
   "execution_count": 22,
   "id": "5a338361",
   "metadata": {},
   "outputs": [],
   "source": [
    "### Risk Weight_unrated(PD=pcu)"
   ]
  },
  {
   "cell_type": "code",
   "execution_count": 23,
   "id": "10670fd8",
   "metadata": {},
   "outputs": [],
   "source": [
    "df1=df[df[\"RATING\"]==\"PCU\"]"
   ]
  },
  {
   "cell_type": "code",
   "execution_count": 24,
   "id": "4cf96743",
   "metadata": {},
   "outputs": [],
   "source": [
    "df1[\"Risk_Weight\"]= df1[\"RWA\"]/df1[\"EAD_AMOUNT\"]"
   ]
  },
  {
   "cell_type": "code",
   "execution_count": 25,
   "id": "b5cfcdd2",
   "metadata": {},
   "outputs": [],
   "source": [
    "result=df1.pivot_table(index=['CUSTOMER_ID'], columns='PERIOD', values='Risk_Weight',aggfunc=\"mean\")"
   ]
  },
  {
   "cell_type": "code",
   "execution_count": 26,
   "id": "4685afe8",
   "metadata": {},
   "outputs": [],
   "source": [
    "### The total amount of Risk Weight in period 1"
   ]
  },
  {
   "cell_type": "code",
   "execution_count": 27,
   "id": "4fcbee45",
   "metadata": {},
   "outputs": [
    {
     "data": {
      "text/plain": [
       "0.7413519123643949"
      ]
     },
     "execution_count": 27,
     "metadata": {},
     "output_type": "execute_result"
    }
   ],
   "source": [
    "c=result[\"Period1\"]\n",
    "a=c.mean()\n",
    "a"
   ]
  },
  {
   "cell_type": "code",
   "execution_count": 28,
   "id": "feaef227",
   "metadata": {},
   "outputs": [],
   "source": [
    "### The total amount of Risk Weight in period 2"
   ]
  },
  {
   "cell_type": "code",
   "execution_count": 29,
   "id": "64883c91",
   "metadata": {},
   "outputs": [
    {
     "data": {
      "text/plain": [
       "0.7011640626138127"
      ]
     },
     "execution_count": 29,
     "metadata": {},
     "output_type": "execute_result"
    }
   ],
   "source": [
    "c1=result[\"Period2\"]\n",
    "a2=c1.mean()\n",
    "a2"
   ]
  },
  {
   "cell_type": "code",
   "execution_count": 30,
   "id": "e43b027a",
   "metadata": {},
   "outputs": [],
   "source": [
    "### The total amount of Risk Weight for unrated exist customers"
   ]
  },
  {
   "cell_type": "code",
   "execution_count": 31,
   "id": "d2fb4c7f",
   "metadata": {},
   "outputs": [],
   "source": [
    "Exist_customer=result[(result['Period1'].notna()) & (result['Period2'].notna())]                                                                                                "
   ]
  },
  {
   "cell_type": "code",
   "execution_count": 32,
   "id": "5d2a51aa",
   "metadata": {},
   "outputs": [
    {
     "data": {
      "text/plain": [
       "0.7021938676783174"
      ]
     },
     "execution_count": 32,
     "metadata": {},
     "output_type": "execute_result"
    }
   ],
   "source": [
    "c3=Exist_customer[\"Period2\"]\n",
    "a3=c3.mean()\n",
    "a3"
   ]
  },
  {
   "cell_type": "code",
   "execution_count": 33,
   "id": "050a9a8a",
   "metadata": {},
   "outputs": [],
   "source": [
    "### The total amount of Risk Weight for unrated new customers"
   ]
  },
  {
   "cell_type": "code",
   "execution_count": 34,
   "id": "7494e7cd",
   "metadata": {},
   "outputs": [],
   "source": [
    "New_customer=result[(result['Period1'].isna()) & (result['Period2'].notna())]                                                                                                "
   ]
  },
  {
   "cell_type": "code",
   "execution_count": 35,
   "id": "254de2be",
   "metadata": {},
   "outputs": [
    {
     "data": {
      "text/plain": [
       "0.6984585231461946"
      ]
     },
     "execution_count": 35,
     "metadata": {},
     "output_type": "execute_result"
    }
   ],
   "source": [
    "c4=New_customer[\"Period2\"]\n",
    "a4=c4.mean()\n",
    "a4"
   ]
  },
  {
   "cell_type": "code",
   "execution_count": 39,
   "id": "ee43cf99",
   "metadata": {},
   "outputs": [
    {
     "data": {
      "image/png": "[encoded data removed]",
      "text/plain": [
       "<Figure size 432x288 with 1 Axes>"
      ]
     },
     "metadata": {
      "needs_background": "light"
     },
     "output_type": "display_data"
    }
   ],
   "source": [
    "labels = ['Period 1', 'Period 2', 'New Customers', 'Existing Customers']\n",
    "RW_Normal = [0.46, 0.45, 0.46, 0.45]\n",
    "\n",
    "RW_Unrated =[0.74, 0.70, 0.69, 0.70]\n",
    "\n",
    "\n",
    "\n",
    "x = np.arange(len(labels))  # the label locations\n",
    "width = 0.2  # the width of the bars\n",
    "\n",
    "fig, ax = plt.subplots()\n",
    "rects1 = ax.bar(x - width, RW_Normal, width, label='Normal')\n",
    "\n",
    "rects4 = ax.bar(x + 2*width, RW_Unrated, width, label='Unrated')\n",
    "\n",
    "# Add some text for labels, title and custom x-axis tick labels, etc.\n",
    "ax.set_ylabel('EL', fontsize=8)\n",
    "ax.set_title('Risk Migration in terms of Expected Loss (EL)')\n",
    "ax.set_xticks(x, labels, fontsize=8)\n",
    "ax.legend(loc='upper right', fontsize=10)\n",
    "\n",
    "ax.bar_label(rects1, padding=3)\n",
    "\n",
    "ax.bar_label(rects4, padding=3)\n",
    "plt.ylim([0,1])\n",
    "\n",
    "fig.tight_layout()\n",
    "\n",
    "plt.show()"
   ]
  },
  {
   "cell_type": "code",
   "execution_count": null,
   "id": "61735a14",
   "metadata": {},
   "outputs": [],
   "source": []
  }
 ],
 "metadata": {
  "kernelspec": {
   "display_name": "Python 3 (ipykernel)",
   "language": "python",
   "name": "python3"
  },
  "language_info": {
   "codemirror_mode": {
    "name": "ipython",
    "version": 3
   },
   "file_extension": ".py",
   "mimetype": "text/x-python",
   "name": "python",
   "nbconvert_exporter": "python",
   "pygments_lexer": "ipython3",
   "version": "3.9.7"
  }
 },
 "nbformat": 4,
 "nbformat_minor": 5
}

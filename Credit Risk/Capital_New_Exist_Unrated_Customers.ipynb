{
 "cells": [
  {
   "cell_type": "markdown",
   "id": "03ed0b00",
   "metadata": {},
   "source": [
    "### Investigation on capital consumption"
   ]
  },
  {
   "cell_type": "code",
   "execution_count": 1,
   "id": "271b87eb",
   "metadata": {},
   "outputs": [],
   "source": [
    "import pandas as pd\n",
    "import numpy as np\n",
    "import matplotlib.pyplot as plt\n",
    "import seaborn as sns\n",
    "import plotly.express as px\n",
    "import warnings\n",
    "%matplotlib inline\n",
    "warnings.filterwarnings('ignore')"
   ]
  },
  {
   "cell_type": "code",
   "execution_count": 2,
   "id": "5b87a216",
   "metadata": {},
   "outputs": [],
   "source": [
    "df=pd.read_csv(\"Dataset.csv\")"
   ]
  },
  {
   "cell_type": "code",
   "execution_count": 3,
   "id": "f3a4e293",
   "metadata": {},
   "outputs": [
    {
     "data": {
      "text/html": [
       "<div>\n",
       "<style scoped>\n",
       "    .dataframe tbody tr th:only-of-type {\n",
       "        vertical-align: middle;\n",
       "    }\n",
       "\n",
       "    .dataframe tbody tr th {\n",
       "        vertical-align: top;\n",
       "    }\n",
       "\n",
       "    .dataframe thead th {\n",
       "        text-align: right;\n",
       "    }\n",
       "</style>\n",
       "<table border=\"1\" class=\"dataframe\">\n",
       "  <thead>\n",
       "    <tr style=\"text-align: right;\">\n",
       "      <th></th>\n",
       "      <th>PERIOD</th>\n",
       "      <th>CUSTOMER_ID</th>\n",
       "      <th>BRANCH</th>\n",
       "      <th>APPROACH</th>\n",
       "      <th>RATING</th>\n",
       "      <th>PD</th>\n",
       "      <th>LGD</th>\n",
       "      <th>ORIGINAL_EXPOSURE</th>\n",
       "      <th>EAD_AMOUNT</th>\n",
       "      <th>RWA</th>\n",
       "      <th>EXPECTED_LOSS</th>\n",
       "    </tr>\n",
       "  </thead>\n",
       "  <tbody>\n",
       "    <tr>\n",
       "      <th>0</th>\n",
       "      <td>Period1</td>\n",
       "      <td>H136768</td>\n",
       "      <td>Sydney</td>\n",
       "      <td>AIRB</td>\n",
       "      <td>PC2</td>\n",
       "      <td>0.07060</td>\n",
       "      <td>0.316</td>\n",
       "      <td>50000.0</td>\n",
       "      <td>4250.0</td>\n",
       "      <td>4832.7</td>\n",
       "      <td>94.8</td>\n",
       "    </tr>\n",
       "    <tr>\n",
       "      <th>1</th>\n",
       "      <td>Period2</td>\n",
       "      <td>H136768</td>\n",
       "      <td>Sydney</td>\n",
       "      <td>AIRB</td>\n",
       "      <td>PC2</td>\n",
       "      <td>0.07060</td>\n",
       "      <td>0.316</td>\n",
       "      <td>50000.0</td>\n",
       "      <td>25000.0</td>\n",
       "      <td>28235.2</td>\n",
       "      <td>557.7</td>\n",
       "    </tr>\n",
       "    <tr>\n",
       "      <th>2</th>\n",
       "      <td>Period1</td>\n",
       "      <td>G136767</td>\n",
       "      <td>Sydney</td>\n",
       "      <td>AIRB</td>\n",
       "      <td>PC0+</td>\n",
       "      <td>1.00000</td>\n",
       "      <td>0.316</td>\n",
       "      <td>1000.0</td>\n",
       "      <td>0.0</td>\n",
       "      <td>0.0</td>\n",
       "      <td>0.0</td>\n",
       "    </tr>\n",
       "    <tr>\n",
       "      <th>3</th>\n",
       "      <td>Period2</td>\n",
       "      <td>G136767</td>\n",
       "      <td>Sydney</td>\n",
       "      <td>AIRB</td>\n",
       "      <td>PC0+</td>\n",
       "      <td>1.00000</td>\n",
       "      <td>0.316</td>\n",
       "      <td>900.0</td>\n",
       "      <td>0.0</td>\n",
       "      <td>0.0</td>\n",
       "      <td>0.0</td>\n",
       "    </tr>\n",
       "    <tr>\n",
       "      <th>4</th>\n",
       "      <td>Period2</td>\n",
       "      <td>C136711</td>\n",
       "      <td>Sydney</td>\n",
       "      <td>AIRB</td>\n",
       "      <td>PC0+</td>\n",
       "      <td>1.00000</td>\n",
       "      <td>0.316</td>\n",
       "      <td>241.4</td>\n",
       "      <td>0.0</td>\n",
       "      <td>0.0</td>\n",
       "      <td>0.0</td>\n",
       "    </tr>\n",
       "    <tr>\n",
       "      <th>...</th>\n",
       "      <td>...</td>\n",
       "      <td>...</td>\n",
       "      <td>...</td>\n",
       "      <td>...</td>\n",
       "      <td>...</td>\n",
       "      <td>...</td>\n",
       "      <td>...</td>\n",
       "      <td>...</td>\n",
       "      <td>...</td>\n",
       "      <td>...</td>\n",
       "      <td>...</td>\n",
       "    </tr>\n",
       "    <tr>\n",
       "      <th>1604416</th>\n",
       "      <td>Period2</td>\n",
       "      <td>V341740</td>\n",
       "      <td>Kuala Lumpur</td>\n",
       "      <td>FIRB</td>\n",
       "      <td>PC4</td>\n",
       "      <td>0.00353</td>\n",
       "      <td>0.450</td>\n",
       "      <td>783.8</td>\n",
       "      <td>783.8</td>\n",
       "      <td>490.3</td>\n",
       "      <td>1.2</td>\n",
       "    </tr>\n",
       "    <tr>\n",
       "      <th>1604417</th>\n",
       "      <td>Period2</td>\n",
       "      <td>C341721</td>\n",
       "      <td>Kuala Lumpur</td>\n",
       "      <td>FIRB</td>\n",
       "      <td>PC4</td>\n",
       "      <td>0.00353</td>\n",
       "      <td>0.450</td>\n",
       "      <td>921.6</td>\n",
       "      <td>921.6</td>\n",
       "      <td>493.4</td>\n",
       "      <td>1.5</td>\n",
       "    </tr>\n",
       "    <tr>\n",
       "      <th>1604418</th>\n",
       "      <td>Period2</td>\n",
       "      <td>C341721</td>\n",
       "      <td>Kuala Lumpur</td>\n",
       "      <td>FIRB</td>\n",
       "      <td>PC4</td>\n",
       "      <td>0.00353</td>\n",
       "      <td>0.400</td>\n",
       "      <td>1400.7</td>\n",
       "      <td>1400.7</td>\n",
       "      <td>666.6</td>\n",
       "      <td>2.0</td>\n",
       "    </tr>\n",
       "    <tr>\n",
       "      <th>1604419</th>\n",
       "      <td>Period2</td>\n",
       "      <td>W341741</td>\n",
       "      <td>Kuala Lumpur</td>\n",
       "      <td>FIRB</td>\n",
       "      <td>PC3</td>\n",
       "      <td>0.01247</td>\n",
       "      <td>0.450</td>\n",
       "      <td>334.6</td>\n",
       "      <td>334.6</td>\n",
       "      <td>284.5</td>\n",
       "      <td>1.9</td>\n",
       "    </tr>\n",
       "    <tr>\n",
       "      <th>1604420</th>\n",
       "      <td>Period2</td>\n",
       "      <td>W341741</td>\n",
       "      <td>Kuala Lumpur</td>\n",
       "      <td>FIRB</td>\n",
       "      <td>PC3</td>\n",
       "      <td>0.01247</td>\n",
       "      <td>0.400</td>\n",
       "      <td>340.0</td>\n",
       "      <td>340.0</td>\n",
       "      <td>257.0</td>\n",
       "      <td>1.7</td>\n",
       "    </tr>\n",
       "  </tbody>\n",
       "</table>\n",
       "<p>1604421 rows × 11 columns</p>\n",
       "</div>"
      ],
      "text/plain": [
       "          PERIOD CUSTOMER_ID        BRANCH APPROACH RATING       PD    LGD  \\\n",
       "0        Period1     H136768        Sydney     AIRB    PC2  0.07060  0.316   \n",
       "1        Period2     H136768        Sydney     AIRB    PC2  0.07060  0.316   \n",
       "2        Period1     G136767        Sydney     AIRB   PC0+  1.00000  0.316   \n",
       "3        Period2     G136767        Sydney     AIRB   PC0+  1.00000  0.316   \n",
       "4        Period2     C136711        Sydney     AIRB   PC0+  1.00000  0.316   \n",
       "...          ...         ...           ...      ...    ...      ...    ...   \n",
       "1604416  Period2     V341740  Kuala Lumpur     FIRB    PC4  0.00353  0.450   \n",
       "1604417  Period2     C341721  Kuala Lumpur     FIRB    PC4  0.00353  0.450   \n",
       "1604418  Period2     C341721  Kuala Lumpur     FIRB    PC4  0.00353  0.400   \n",
       "1604419  Period2     W341741  Kuala Lumpur     FIRB    PC3  0.01247  0.450   \n",
       "1604420  Period2     W341741  Kuala Lumpur     FIRB    PC3  0.01247  0.400   \n",
       "\n",
       "         ORIGINAL_EXPOSURE  EAD_AMOUNT      RWA  EXPECTED_LOSS  \n",
       "0                  50000.0      4250.0   4832.7           94.8  \n",
       "1                  50000.0     25000.0  28235.2          557.7  \n",
       "2                   1000.0         0.0      0.0            0.0  \n",
       "3                    900.0         0.0      0.0            0.0  \n",
       "4                    241.4         0.0      0.0            0.0  \n",
       "...                    ...         ...      ...            ...  \n",
       "1604416              783.8       783.8    490.3            1.2  \n",
       "1604417              921.6       921.6    493.4            1.5  \n",
       "1604418             1400.7      1400.7    666.6            2.0  \n",
       "1604419              334.6       334.6    284.5            1.9  \n",
       "1604420              340.0       340.0    257.0            1.7  \n",
       "\n",
       "[1604421 rows x 11 columns]"
      ]
     },
     "execution_count": 3,
     "metadata": {},
     "output_type": "execute_result"
    }
   ],
   "source": [
    "df"
   ]
  },
  {
   "cell_type": "code",
   "execution_count": 4,
   "id": "3f9f50e6",
   "metadata": {},
   "outputs": [],
   "source": [
    "df[\"CAPITAL\"]=df[\"RWA\"]* 8/100"
   ]
  },
  {
   "cell_type": "code",
   "execution_count": 5,
   "id": "55cf69e1",
   "metadata": {},
   "outputs": [],
   "source": [
    "df[\"Risk_Weight\"]= df[\"RWA\"]/df[\"EAD_AMOUNT\"]"
   ]
  },
  {
   "cell_type": "code",
   "execution_count": 6,
   "id": "a34b4196",
   "metadata": {},
   "outputs": [],
   "source": [
    "result=df.pivot_table(index=['CUSTOMER_ID'], columns='PERIOD', values='CAPITAL',aggfunc=\"mean\")"
   ]
  },
  {
   "cell_type": "code",
   "execution_count": 7,
   "id": "a6ef11be",
   "metadata": {},
   "outputs": [],
   "source": [
    "### The total amount of Capital Consumption in period 1"
   ]
  },
  {
   "cell_type": "code",
   "execution_count": 8,
   "id": "e3b07b4f",
   "metadata": {},
   "outputs": [
    {
     "data": {
      "text/plain": [
       "184.35452291921393"
      ]
     },
     "execution_count": 8,
     "metadata": {},
     "output_type": "execute_result"
    }
   ],
   "source": [
    "c=result[\"Period1\"]\n",
    "a=c.mean()\n",
    "a"
   ]
  },
  {
   "cell_type": "code",
   "execution_count": 9,
   "id": "6f5a3c2e",
   "metadata": {},
   "outputs": [],
   "source": [
    "### The total amount of Capital Consumption in period 1"
   ]
  },
  {
   "cell_type": "code",
   "execution_count": 10,
   "id": "c9b005c3",
   "metadata": {},
   "outputs": [
    {
     "data": {
      "text/plain": [
       "190.71535861510452"
      ]
     },
     "execution_count": 10,
     "metadata": {},
     "output_type": "execute_result"
    }
   ],
   "source": [
    "c1=result[\"Period2\"]\n",
    "a2=c1.mean()\n",
    "a2"
   ]
  },
  {
   "cell_type": "code",
   "execution_count": 11,
   "id": "346ce061",
   "metadata": {},
   "outputs": [],
   "source": [
    "### The total amount of Capital Consumption for exist customers"
   ]
  },
  {
   "cell_type": "code",
   "execution_count": 12,
   "id": "9212b67f",
   "metadata": {},
   "outputs": [],
   "source": [
    "Exist_customer=result[(result['Period1'].notna()) & (result['Period2'].notna())]                                                                                                "
   ]
  },
  {
   "cell_type": "code",
   "execution_count": 13,
   "id": "53166c6c",
   "metadata": {},
   "outputs": [
    {
     "data": {
      "text/plain": [
       "129.38688528902676"
      ]
     },
     "execution_count": 13,
     "metadata": {},
     "output_type": "execute_result"
    }
   ],
   "source": [
    "c3=Exist_customer[\"Period2\"]\n",
    "a3=c3.mean()\n",
    "a3"
   ]
  },
  {
   "cell_type": "code",
   "execution_count": 14,
   "id": "ed35f263",
   "metadata": {},
   "outputs": [],
   "source": [
    "### The total amount of Capital Consumption for New customers"
   ]
  },
  {
   "cell_type": "code",
   "execution_count": 15,
   "id": "f5295330",
   "metadata": {},
   "outputs": [],
   "source": [
    "New_customer=result[(result['Period1'].isna()) & (result['Period2'].notna())]                                                                                                "
   ]
  },
  {
   "cell_type": "code",
   "execution_count": 16,
   "id": "4522bac1",
   "metadata": {},
   "outputs": [
    {
     "data": {
      "text/plain": [
       "462.19837856752736"
      ]
     },
     "execution_count": 16,
     "metadata": {},
     "output_type": "execute_result"
    }
   ],
   "source": [
    "c4=New_customer[\"Period2\"]\n",
    "a4=c4.mean()\n",
    "a4"
   ]
  },
  {
   "cell_type": "code",
   "execution_count": 17,
   "id": "2937cc77",
   "metadata": {},
   "outputs": [],
   "source": [
    "### Capital_Unrated (RATING=pcu)"
   ]
  },
  {
   "cell_type": "code",
   "execution_count": 18,
   "id": "8ede86a1",
   "metadata": {},
   "outputs": [],
   "source": [
    "df1=df[df[\"RATING\"]==\"PCU\"]"
   ]
  },
  {
   "cell_type": "code",
   "execution_count": 19,
   "id": "74b5da98",
   "metadata": {},
   "outputs": [],
   "source": [
    "df1[\"Risk_Weight\"]= df1[\"RWA\"]/df1[\"EAD_AMOUNT\"]"
   ]
  },
  {
   "cell_type": "code",
   "execution_count": 20,
   "id": "dd0bae71",
   "metadata": {},
   "outputs": [],
   "source": [
    "result=df1.pivot_table(index=['CUSTOMER_ID'], columns='PERIOD', values='CAPITAL',aggfunc=\"mean\")"
   ]
  },
  {
   "cell_type": "code",
   "execution_count": 21,
   "id": "393afdb4",
   "metadata": {},
   "outputs": [],
   "source": [
    "### The total amount of Capital Consumption in period 1"
   ]
  },
  {
   "cell_type": "code",
   "execution_count": 22,
   "id": "8a56d63d",
   "metadata": {},
   "outputs": [
    {
     "data": {
      "text/plain": [
       "39.452072732100525"
      ]
     },
     "execution_count": 22,
     "metadata": {},
     "output_type": "execute_result"
    }
   ],
   "source": [
    "c=result[\"Period1\"]\n",
    "a=c.mean()\n",
    "a"
   ]
  },
  {
   "cell_type": "code",
   "execution_count": 23,
   "id": "342f0a49",
   "metadata": {},
   "outputs": [],
   "source": [
    "### The total amount of Capital Consumption in period 2"
   ]
  },
  {
   "cell_type": "code",
   "execution_count": 24,
   "id": "4b70c8ab",
   "metadata": {},
   "outputs": [
    {
     "data": {
      "text/plain": [
       "61.82077516609583"
      ]
     },
     "execution_count": 24,
     "metadata": {},
     "output_type": "execute_result"
    }
   ],
   "source": [
    "c1=result[\"Period2\"]\n",
    "a2=c1.mean()\n",
    "a2"
   ]
  },
  {
   "cell_type": "code",
   "execution_count": 25,
   "id": "45b7a61b",
   "metadata": {},
   "outputs": [],
   "source": [
    "### The total amount of Capital Consumption for exist customers"
   ]
  },
  {
   "cell_type": "code",
   "execution_count": 26,
   "id": "33dbcfe8",
   "metadata": {},
   "outputs": [],
   "source": [
    "Exist_customer=result[(result['Period1'].notna()) & (result['Period2'].notna())]                                                                                                "
   ]
  },
  {
   "cell_type": "code",
   "execution_count": 27,
   "id": "78c4cd17",
   "metadata": {},
   "outputs": [
    {
     "data": {
      "text/plain": [
       "22.587871841946207"
      ]
     },
     "execution_count": 27,
     "metadata": {},
     "output_type": "execute_result"
    }
   ],
   "source": [
    "c3=Exist_customer[\"Period2\"]\n",
    "a3=c3.mean()\n",
    "a3"
   ]
  },
  {
   "cell_type": "code",
   "execution_count": 28,
   "id": "f375fddf",
   "metadata": {},
   "outputs": [],
   "source": [
    "### The total amount of Capital Consumption for new customers"
   ]
  },
  {
   "cell_type": "code",
   "execution_count": 29,
   "id": "6349dfd0",
   "metadata": {},
   "outputs": [],
   "source": [
    "New_customer=result[(result['Period1'].isna()) & (result['Period2'].notna())]                                                                                                "
   ]
  },
  {
   "cell_type": "code",
   "execution_count": 30,
   "id": "e1bc5d98",
   "metadata": {},
   "outputs": [
    {
     "data": {
      "text/plain": [
       "166.96614765882055"
      ]
     },
     "execution_count": 30,
     "metadata": {},
     "output_type": "execute_result"
    }
   ],
   "source": [
    "c4=New_customer[\"Period2\"]\n",
    "a4=c4.mean()\n",
    "a4"
   ]
  },
  {
   "cell_type": "code",
   "execution_count": 31,
   "id": "22ad1229",
   "metadata": {},
   "outputs": [
    {
     "data": {
      "image/png": "[encoded data removed]",
      "text/plain": [
       "<Figure size 432x288 with 1 Axes>"
      ]
     },
     "metadata": {
      "needs_background": "light"
     },
     "output_type": "display_data"
    }
   ],
   "source": [
    "labels = ['New Customers', 'Existing Customers', \"Unrated Customers\"]\n",
    "Risk_Normal = [462.20, 129.39, 61.82]\n",
    "\n",
    "\n",
    "x = np.arange(len(labels))  # the label locations\n",
    "width = 0.4  # the width of the bars\n",
    "\n",
    "fig, ax = plt.subplots()\n",
    "rects1 = ax.bar(x, Risk_Normal, width, label='Normal')\n",
    "\n",
    "# Add some text for labels, title and custom x-axis tick labels, etc.\n",
    "ax.set_ylabel('Capital Consumption (8% RWA)', fontsize=12)\n",
    "ax.set_xticks(x, labels, fontsize=12)\n",
    "ax.bar_label(rects1, padding=3)\n",
    "\n",
    "plt.ylim([0,500])\n",
    "fig.tight_layout()\n",
    "\n",
    "plt.show()"
   ]
  },
  {
   "cell_type": "code",
   "execution_count": null,
   "id": "2c88baaa",
   "metadata": {},
   "outputs": [],
   "source": []
  },
  {
   "cell_type": "code",
   "execution_count": null,
   "id": "e518734e",
   "metadata": {},
   "outputs": [],
   "source": []
  }
 ],
 "metadata": {
  "kernelspec": {
   "display_name": "Python 3 (ipykernel)",
   "language": "python",
   "name": "python3"
  },
  "language_info": {
   "codemirror_mode": {
    "name": "ipython",
    "version": 3
   },
   "file_extension": ".py",
   "mimetype": "text/x-python",
   "name": "python",
   "nbconvert_exporter": "python",
   "pygments_lexer": "ipython3",
   "version": "3.9.7"
  }
 },
 "nbformat": 4,
 "nbformat_minor": 5
}

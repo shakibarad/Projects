{
 "cells": [
  {
   "cell_type": "markdown",
   "id": "1ea18ea5",
   "metadata": {},
   "source": [
    "## Predicting Spotify Song Popularity\n",
    "Spotify is a digital music service that enables users to remotely source millions of different songs on various record labels from a laptop, smartphone or other device. To recommend new music to users, and to be able to internally classify songs, Spotify assigns each song values from 17 different attributes/features. These features are mostly numerical values, but include some categorical data as well (the key the song is in, for instance). Spotify also assigns each song a popularity score, based on total number of clicks/listens."
   ]
  },
  {
   "cell_type": "markdown",
   "id": "bfacb032",
   "metadata": {},
   "source": [
    "## Strategy\n",
    "1. Linear Regression to predict popularity score\n",
    "2. Logistic Regression to predict popular/not popular"
   ]
  },
  {
   "cell_type": "markdown",
   "id": "9b832046",
   "metadata": {},
   "source": [
    "## Approach\n",
    "I tried create a logistic regression model, in order to predict 'Popular' or 'Not Popular', sampled by the cutoff methodology. Basically, all songs that had a popularity score at or above the popularity score cutoff were flagged as having a popularity binary value of 1, and all songs below the cutoff were flagged as having a 0. "
   ]
  },
  {
   "cell_type": "markdown",
   "id": "b23520e3",
   "metadata": {},
   "source": [
    "## Second Model: Logistic Regression"
   ]
  },
  {
   "cell_type": "code",
   "execution_count": 441,
   "id": "87402c9a",
   "metadata": {},
   "outputs": [],
   "source": [
    "import pandas as pd\n",
    "import numpy as np\n",
    "import seaborn as sns\n",
    "import matplotlib.pyplot as plt\n",
    "%matplotlib inline\n",
    "import plotly.express as px\n"
   ]
  },
  {
   "cell_type": "code",
   "execution_count": 442,
   "id": "8622f7dd",
   "metadata": {},
   "outputs": [
    {
     "data": {
      "text/html": [
       "<div>\n",
       "<style scoped>\n",
       "    .dataframe tbody tr th:only-of-type {\n",
       "        vertical-align: middle;\n",
       "    }\n",
       "\n",
       "    .dataframe tbody tr th {\n",
       "        vertical-align: top;\n",
       "    }\n",
       "\n",
       "    .dataframe thead th {\n",
       "        text-align: right;\n",
       "    }\n",
       "</style>\n",
       "<table border=\"1\" class=\"dataframe\">\n",
       "  <thead>\n",
       "    <tr style=\"text-align: right;\">\n",
       "      <th></th>\n",
       "      <th>artist_name</th>\n",
       "      <th>track_id</th>\n",
       "      <th>track_name</th>\n",
       "      <th>acousticness</th>\n",
       "      <th>danceability</th>\n",
       "      <th>duration_ms</th>\n",
       "      <th>energy</th>\n",
       "      <th>instrumentalness</th>\n",
       "      <th>key</th>\n",
       "      <th>liveness</th>\n",
       "      <th>loudness</th>\n",
       "      <th>mode</th>\n",
       "      <th>speechiness</th>\n",
       "      <th>tempo</th>\n",
       "      <th>time_signature</th>\n",
       "      <th>valence</th>\n",
       "      <th>popularity</th>\n",
       "    </tr>\n",
       "  </thead>\n",
       "  <tbody>\n",
       "    <tr>\n",
       "      <th>0</th>\n",
       "      <td>YG</td>\n",
       "      <td>2RM4jf1Xa9zPgMGRDiht8O</td>\n",
       "      <td>Big Bank feat. 2 Chainz, Big Sean, Nicki Minaj</td>\n",
       "      <td>0.005820</td>\n",
       "      <td>0.743</td>\n",
       "      <td>238373</td>\n",
       "      <td>0.339</td>\n",
       "      <td>0.000</td>\n",
       "      <td>1</td>\n",
       "      <td>0.0812</td>\n",
       "      <td>-7.678</td>\n",
       "      <td>1</td>\n",
       "      <td>0.4090</td>\n",
       "      <td>203.927</td>\n",
       "      <td>4</td>\n",
       "      <td>0.118</td>\n",
       "      <td>15</td>\n",
       "    </tr>\n",
       "    <tr>\n",
       "      <th>1</th>\n",
       "      <td>YG</td>\n",
       "      <td>1tHDG53xJNGsItRA3vfVgs</td>\n",
       "      <td>BAND DRUM (feat. A$AP Rocky)</td>\n",
       "      <td>0.024400</td>\n",
       "      <td>0.846</td>\n",
       "      <td>214800</td>\n",
       "      <td>0.557</td>\n",
       "      <td>0.000</td>\n",
       "      <td>8</td>\n",
       "      <td>0.2860</td>\n",
       "      <td>-7.259</td>\n",
       "      <td>1</td>\n",
       "      <td>0.4570</td>\n",
       "      <td>159.009</td>\n",
       "      <td>4</td>\n",
       "      <td>0.371</td>\n",
       "      <td>0</td>\n",
       "    </tr>\n",
       "    <tr>\n",
       "      <th>2</th>\n",
       "      <td>R3HAB</td>\n",
       "      <td>6Wosx2euFPMT14UXiWudMy</td>\n",
       "      <td>Radio Silence</td>\n",
       "      <td>0.025000</td>\n",
       "      <td>0.603</td>\n",
       "      <td>138913</td>\n",
       "      <td>0.723</td>\n",
       "      <td>0.000</td>\n",
       "      <td>9</td>\n",
       "      <td>0.0824</td>\n",
       "      <td>-5.890</td>\n",
       "      <td>0</td>\n",
       "      <td>0.0454</td>\n",
       "      <td>114.966</td>\n",
       "      <td>4</td>\n",
       "      <td>0.382</td>\n",
       "      <td>56</td>\n",
       "    </tr>\n",
       "    <tr>\n",
       "      <th>3</th>\n",
       "      <td>Chris Cooq</td>\n",
       "      <td>3J2Jpw61sO7l6Hc7qdYV91</td>\n",
       "      <td>Lactose</td>\n",
       "      <td>0.029400</td>\n",
       "      <td>0.800</td>\n",
       "      <td>125381</td>\n",
       "      <td>0.579</td>\n",
       "      <td>0.912</td>\n",
       "      <td>5</td>\n",
       "      <td>0.0994</td>\n",
       "      <td>-12.118</td>\n",
       "      <td>0</td>\n",
       "      <td>0.0701</td>\n",
       "      <td>123.003</td>\n",
       "      <td>4</td>\n",
       "      <td>0.641</td>\n",
       "      <td>0</td>\n",
       "    </tr>\n",
       "    <tr>\n",
       "      <th>4</th>\n",
       "      <td>Chris Cooq</td>\n",
       "      <td>2jbYvQCyPgX3CdmAzeVeuS</td>\n",
       "      <td>Same - Original mix</td>\n",
       "      <td>0.000035</td>\n",
       "      <td>0.783</td>\n",
       "      <td>124016</td>\n",
       "      <td>0.792</td>\n",
       "      <td>0.878</td>\n",
       "      <td>7</td>\n",
       "      <td>0.0332</td>\n",
       "      <td>-10.277</td>\n",
       "      <td>1</td>\n",
       "      <td>0.0661</td>\n",
       "      <td>120.047</td>\n",
       "      <td>4</td>\n",
       "      <td>0.928</td>\n",
       "      <td>0</td>\n",
       "    </tr>\n",
       "  </tbody>\n",
       "</table>\n",
       "</div>"
      ],
      "text/plain": [
       "  artist_name                track_id  \\\n",
       "0          YG  2RM4jf1Xa9zPgMGRDiht8O   \n",
       "1          YG  1tHDG53xJNGsItRA3vfVgs   \n",
       "2       R3HAB  6Wosx2euFPMT14UXiWudMy   \n",
       "3  Chris Cooq  3J2Jpw61sO7l6Hc7qdYV91   \n",
       "4  Chris Cooq  2jbYvQCyPgX3CdmAzeVeuS   \n",
       "\n",
       "                                       track_name  acousticness  danceability  \\\n",
       "0  Big Bank feat. 2 Chainz, Big Sean, Nicki Minaj      0.005820         0.743   \n",
       "1                    BAND DRUM (feat. A$AP Rocky)      0.024400         0.846   \n",
       "2                                   Radio Silence      0.025000         0.603   \n",
       "3                                         Lactose      0.029400         0.800   \n",
       "4                             Same - Original mix      0.000035         0.783   \n",
       "\n",
       "   duration_ms  energy  instrumentalness  key  liveness  loudness  mode  \\\n",
       "0       238373   0.339             0.000    1    0.0812    -7.678     1   \n",
       "1       214800   0.557             0.000    8    0.2860    -7.259     1   \n",
       "2       138913   0.723             0.000    9    0.0824    -5.890     0   \n",
       "3       125381   0.579             0.912    5    0.0994   -12.118     0   \n",
       "4       124016   0.792             0.878    7    0.0332   -10.277     1   \n",
       "\n",
       "   speechiness    tempo  time_signature  valence  popularity  \n",
       "0       0.4090  203.927               4    0.118          15  \n",
       "1       0.4570  159.009               4    0.371           0  \n",
       "2       0.0454  114.966               4    0.382          56  \n",
       "3       0.0701  123.003               4    0.641           0  \n",
       "4       0.0661  120.047               4    0.928           0  "
      ]
     },
     "execution_count": 442,
     "metadata": {},
     "output_type": "execute_result"
    }
   ],
   "source": [
    "df=pd.read_csv(\"SpotifyAudioFeaturesApril2019.csv\")\n",
    "df.head()"
   ]
  },
  {
   "cell_type": "code",
   "execution_count": 443,
   "id": "1fcc1c74",
   "metadata": {},
   "outputs": [
    {
     "data": {
      "text/plain": [
       "(130663, 17)"
      ]
     },
     "execution_count": 443,
     "metadata": {},
     "output_type": "execute_result"
    }
   ],
   "source": [
    "df.shape"
   ]
  },
  {
   "cell_type": "code",
   "execution_count": 444,
   "id": "7481316e",
   "metadata": {},
   "outputs": [
    {
     "name": "stdout",
     "output_type": "stream",
     "text": [
      "object_attributes: ['artist_name', 'track_id', 'track_name']\n",
      "numerical_attributes: ['acousticness', 'danceability', 'duration_ms', 'energy', 'instrumentalness', 'key', 'liveness', 'loudness', 'mode', 'speechiness', 'tempo', 'time_signature', 'valence', 'popularity']\n"
     ]
    }
   ],
   "source": [
    "# the object and numeical attributes\n",
    "object_attributes = list(df.select_dtypes(include=['object']).columns)\n",
    "numerical_attributes = list(df.select_dtypes(include=['float64', 'int64']).columns)\n",
    "print('object_attributes:', object_attributes)\n",
    "print('numerical_attributes:', numerical_attributes)\n",
    "categorical_cols = ['key', 'mode', 'time_signature']"
   ]
  },
  {
   "cell_type": "code",
   "execution_count": 446,
   "id": "9b3adea4",
   "metadata": {},
   "outputs": [
    {
     "data": {
      "text/plain": [
       "Index([], dtype='object')"
      ]
     },
     "execution_count": 446,
     "metadata": {},
     "output_type": "execute_result"
    }
   ],
   "source": [
    "df.columns[df.isnull().any()]"
   ]
  },
  {
   "cell_type": "code",
   "execution_count": 448,
   "id": "45530458",
   "metadata": {},
   "outputs": [
    {
     "name": "stdout",
     "output_type": "stream",
     "text": [
      "<class 'pandas.core.frame.DataFrame'>\n",
      "RangeIndex: 130663 entries, 0 to 130662\n",
      "Data columns (total 17 columns):\n",
      " #   Column            Non-Null Count   Dtype  \n",
      "---  ------            --------------   -----  \n",
      " 0   artist_name       130663 non-null  object \n",
      " 1   track_id          130663 non-null  object \n",
      " 2   track_name        130663 non-null  object \n",
      " 3   acousticness      130663 non-null  float64\n",
      " 4   danceability      130663 non-null  float64\n",
      " 5   duration_ms       130663 non-null  int64  \n",
      " 6   energy            130663 non-null  float64\n",
      " 7   instrumentalness  130663 non-null  float64\n",
      " 8   key               130663 non-null  int64  \n",
      " 9   liveness          130663 non-null  float64\n",
      " 10  loudness          130663 non-null  float64\n",
      " 11  mode              130663 non-null  int64  \n",
      " 12  speechiness       130663 non-null  float64\n",
      " 13  tempo             130663 non-null  float64\n",
      " 14  time_signature    130663 non-null  int64  \n",
      " 15  valence           130663 non-null  float64\n",
      " 16  popularity        130663 non-null  int64  \n",
      "dtypes: float64(9), int64(5), object(3)\n",
      "memory usage: 16.9+ MB\n"
     ]
    }
   ],
   "source": [
    "df.info()"
   ]
  },
  {
   "cell_type": "code",
   "execution_count": 449,
   "id": "afd8d4ed",
   "metadata": {},
   "outputs": [
    {
     "data": {
      "text/html": [
       "<div>\n",
       "<style scoped>\n",
       "    .dataframe tbody tr th:only-of-type {\n",
       "        vertical-align: middle;\n",
       "    }\n",
       "\n",
       "    .dataframe tbody tr th {\n",
       "        vertical-align: top;\n",
       "    }\n",
       "\n",
       "    .dataframe thead th {\n",
       "        text-align: right;\n",
       "    }\n",
       "</style>\n",
       "<table border=\"1\" class=\"dataframe\">\n",
       "  <thead>\n",
       "    <tr style=\"text-align: right;\">\n",
       "      <th></th>\n",
       "      <th>acousticness</th>\n",
       "      <th>danceability</th>\n",
       "      <th>duration_ms</th>\n",
       "      <th>energy</th>\n",
       "      <th>instrumentalness</th>\n",
       "      <th>key</th>\n",
       "      <th>liveness</th>\n",
       "      <th>loudness</th>\n",
       "      <th>mode</th>\n",
       "      <th>speechiness</th>\n",
       "      <th>tempo</th>\n",
       "      <th>time_signature</th>\n",
       "      <th>valence</th>\n",
       "      <th>popularity</th>\n",
       "    </tr>\n",
       "  </thead>\n",
       "  <tbody>\n",
       "    <tr>\n",
       "      <th>count</th>\n",
       "      <td>130663.000000</td>\n",
       "      <td>130663.000000</td>\n",
       "      <td>1.306630e+05</td>\n",
       "      <td>130663.000000</td>\n",
       "      <td>130663.000000</td>\n",
       "      <td>130663.000000</td>\n",
       "      <td>130663.000000</td>\n",
       "      <td>130663.000000</td>\n",
       "      <td>130663.000000</td>\n",
       "      <td>130663.000000</td>\n",
       "      <td>130663.000000</td>\n",
       "      <td>130663.000000</td>\n",
       "      <td>130663.000000</td>\n",
       "      <td>130663.000000</td>\n",
       "    </tr>\n",
       "    <tr>\n",
       "      <th>mean</th>\n",
       "      <td>0.342500</td>\n",
       "      <td>0.581468</td>\n",
       "      <td>2.126331e+05</td>\n",
       "      <td>0.569196</td>\n",
       "      <td>0.224018</td>\n",
       "      <td>5.231894</td>\n",
       "      <td>0.194886</td>\n",
       "      <td>-9.974006</td>\n",
       "      <td>0.607739</td>\n",
       "      <td>0.112015</td>\n",
       "      <td>119.473353</td>\n",
       "      <td>3.878986</td>\n",
       "      <td>0.439630</td>\n",
       "      <td>24.208988</td>\n",
       "    </tr>\n",
       "    <tr>\n",
       "      <th>std</th>\n",
       "      <td>0.345641</td>\n",
       "      <td>0.190077</td>\n",
       "      <td>1.231551e+05</td>\n",
       "      <td>0.260312</td>\n",
       "      <td>0.360328</td>\n",
       "      <td>3.602701</td>\n",
       "      <td>0.167733</td>\n",
       "      <td>6.544379</td>\n",
       "      <td>0.488256</td>\n",
       "      <td>0.124327</td>\n",
       "      <td>30.159636</td>\n",
       "      <td>0.514403</td>\n",
       "      <td>0.259079</td>\n",
       "      <td>19.713191</td>\n",
       "    </tr>\n",
       "    <tr>\n",
       "      <th>min</th>\n",
       "      <td>0.000000</td>\n",
       "      <td>0.000000</td>\n",
       "      <td>3.203000e+03</td>\n",
       "      <td>0.000000</td>\n",
       "      <td>0.000000</td>\n",
       "      <td>0.000000</td>\n",
       "      <td>0.000000</td>\n",
       "      <td>-60.000000</td>\n",
       "      <td>0.000000</td>\n",
       "      <td>0.000000</td>\n",
       "      <td>0.000000</td>\n",
       "      <td>0.000000</td>\n",
       "      <td>0.000000</td>\n",
       "      <td>0.000000</td>\n",
       "    </tr>\n",
       "    <tr>\n",
       "      <th>25%</th>\n",
       "      <td>0.031600</td>\n",
       "      <td>0.459000</td>\n",
       "      <td>1.639225e+05</td>\n",
       "      <td>0.396000</td>\n",
       "      <td>0.000000</td>\n",
       "      <td>2.000000</td>\n",
       "      <td>0.097500</td>\n",
       "      <td>-11.898000</td>\n",
       "      <td>0.000000</td>\n",
       "      <td>0.038900</td>\n",
       "      <td>96.014000</td>\n",
       "      <td>4.000000</td>\n",
       "      <td>0.224000</td>\n",
       "      <td>7.000000</td>\n",
       "    </tr>\n",
       "    <tr>\n",
       "      <th>50%</th>\n",
       "      <td>0.203000</td>\n",
       "      <td>0.605000</td>\n",
       "      <td>2.019010e+05</td>\n",
       "      <td>0.603000</td>\n",
       "      <td>0.000149</td>\n",
       "      <td>5.000000</td>\n",
       "      <td>0.124000</td>\n",
       "      <td>-7.979000</td>\n",
       "      <td>1.000000</td>\n",
       "      <td>0.055900</td>\n",
       "      <td>120.027000</td>\n",
       "      <td>4.000000</td>\n",
       "      <td>0.420000</td>\n",
       "      <td>22.000000</td>\n",
       "    </tr>\n",
       "    <tr>\n",
       "      <th>75%</th>\n",
       "      <td>0.636000</td>\n",
       "      <td>0.727000</td>\n",
       "      <td>2.410475e+05</td>\n",
       "      <td>0.775000</td>\n",
       "      <td>0.440000</td>\n",
       "      <td>8.000000</td>\n",
       "      <td>0.236000</td>\n",
       "      <td>-5.684000</td>\n",
       "      <td>1.000000</td>\n",
       "      <td>0.129000</td>\n",
       "      <td>139.642000</td>\n",
       "      <td>4.000000</td>\n",
       "      <td>0.638000</td>\n",
       "      <td>38.000000</td>\n",
       "    </tr>\n",
       "    <tr>\n",
       "      <th>max</th>\n",
       "      <td>0.996000</td>\n",
       "      <td>0.996000</td>\n",
       "      <td>5.610020e+06</td>\n",
       "      <td>1.000000</td>\n",
       "      <td>1.000000</td>\n",
       "      <td>11.000000</td>\n",
       "      <td>0.999000</td>\n",
       "      <td>1.806000</td>\n",
       "      <td>1.000000</td>\n",
       "      <td>0.966000</td>\n",
       "      <td>249.983000</td>\n",
       "      <td>5.000000</td>\n",
       "      <td>1.000000</td>\n",
       "      <td>100.000000</td>\n",
       "    </tr>\n",
       "  </tbody>\n",
       "</table>\n",
       "</div>"
      ],
      "text/plain": [
       "        acousticness   danceability   duration_ms         energy  \\\n",
       "count  130663.000000  130663.000000  1.306630e+05  130663.000000   \n",
       "mean        0.342500       0.581468  2.126331e+05       0.569196   \n",
       "std         0.345641       0.190077  1.231551e+05       0.260312   \n",
       "min         0.000000       0.000000  3.203000e+03       0.000000   \n",
       "25%         0.031600       0.459000  1.639225e+05       0.396000   \n",
       "50%         0.203000       0.605000  2.019010e+05       0.603000   \n",
       "75%         0.636000       0.727000  2.410475e+05       0.775000   \n",
       "max         0.996000       0.996000  5.610020e+06       1.000000   \n",
       "\n",
       "       instrumentalness            key       liveness       loudness  \\\n",
       "count     130663.000000  130663.000000  130663.000000  130663.000000   \n",
       "mean           0.224018       5.231894       0.194886      -9.974006   \n",
       "std            0.360328       3.602701       0.167733       6.544379   \n",
       "min            0.000000       0.000000       0.000000     -60.000000   \n",
       "25%            0.000000       2.000000       0.097500     -11.898000   \n",
       "50%            0.000149       5.000000       0.124000      -7.979000   \n",
       "75%            0.440000       8.000000       0.236000      -5.684000   \n",
       "max            1.000000      11.000000       0.999000       1.806000   \n",
       "\n",
       "                mode    speechiness          tempo  time_signature  \\\n",
       "count  130663.000000  130663.000000  130663.000000   130663.000000   \n",
       "mean        0.607739       0.112015     119.473353        3.878986   \n",
       "std         0.488256       0.124327      30.159636        0.514403   \n",
       "min         0.000000       0.000000       0.000000        0.000000   \n",
       "25%         0.000000       0.038900      96.014000        4.000000   \n",
       "50%         1.000000       0.055900     120.027000        4.000000   \n",
       "75%         1.000000       0.129000     139.642000        4.000000   \n",
       "max         1.000000       0.966000     249.983000        5.000000   \n",
       "\n",
       "             valence     popularity  \n",
       "count  130663.000000  130663.000000  \n",
       "mean        0.439630      24.208988  \n",
       "std         0.259079      19.713191  \n",
       "min         0.000000       0.000000  \n",
       "25%         0.224000       7.000000  \n",
       "50%         0.420000      22.000000  \n",
       "75%         0.638000      38.000000  \n",
       "max         1.000000     100.000000  "
      ]
     },
     "execution_count": 449,
     "metadata": {},
     "output_type": "execute_result"
    }
   ],
   "source": [
    "df.describe()"
   ]
  },
  {
   "cell_type": "code",
   "execution_count": 450,
   "id": "e80174d5",
   "metadata": {},
   "outputs": [
    {
     "data": {
      "text/plain": [
       "Text(100, 100, 'max: 100')"
      ]
     },
     "execution_count": 450,
     "metadata": {},
     "output_type": "execute_result"
    },
    {
     "data": {
      "image/png": "[encoded data removed]",
      "text/plain": [
       "<Figure size 432x288 with 1 Axes>"
      ]
     },
     "metadata": {
      "needs_background": "light"
     },
     "output_type": "display_data"
    }
   ],
   "source": [
    "plt.hist(df.popularity, ec='w', bins=100, color='red')\n",
    "plt.text(100,100, 'max: '+str(df.popularity.max()), color='black', fontsize=14)"
   ]
  },
  {
   "cell_type": "code",
   "execution_count": 451,
   "id": "d6d0bdfa",
   "metadata": {},
   "outputs": [
    {
     "data": {
      "text/plain": [
       "0-20      62859\n",
       "20-40     39318\n",
       "40-60     22031\n",
       "60-80      6061\n",
       "80-100      394\n",
       "Name: popularity, dtype: int64"
      ]
     },
     "execution_count": 451,
     "metadata": {},
     "output_type": "execute_result"
    }
   ],
   "source": [
    "#Grouping the the popularity to get a better understanding\n",
    "dt1=pd.cut(df['popularity'], bins=[0,20, 40, 60, 80, 100], include_lowest=True, \n",
    "                                 labels=['0-20', '20-40', '40-60', '60-80', '80-100'])\n",
    "dt1.value_counts()"
   ]
  },
  {
   "cell_type": "markdown",
   "id": "9132dac3",
   "metadata": {},
   "source": [
    "#### I decided on a cutoff of 80, as after that most of the metrics start decreasing, and I also noticed that, as seen in the linear regression, my features were becoming less significant as the cutoff increased."
   ]
  },
  {
   "cell_type": "code",
   "execution_count": 452,
   "id": "ac29307f",
   "metadata": {},
   "outputs": [
    {
     "data": {
      "text/plain": [
       "0    130269\n",
       "1       394\n",
       "Name: popularity, dtype: int64"
      ]
     },
     "execution_count": 452,
     "metadata": {},
     "output_type": "execute_result"
    }
   ],
   "source": [
    "df[\"popularity\"]= [ 1 if i>80 else 0 for i in df.popularity ]\n",
    "df[\"popularity\"].value_counts()"
   ]
  },
  {
   "cell_type": "code",
   "execution_count": 457,
   "id": "23af5242",
   "metadata": {},
   "outputs": [
    {
     "data": {
      "text/html": [
       "<div>\n",
       "<style scoped>\n",
       "    .dataframe tbody tr th:only-of-type {\n",
       "        vertical-align: middle;\n",
       "    }\n",
       "\n",
       "    .dataframe tbody tr th {\n",
       "        vertical-align: top;\n",
       "    }\n",
       "\n",
       "    .dataframe thead th {\n",
       "        text-align: right;\n",
       "    }\n",
       "</style>\n",
       "<table border=\"1\" class=\"dataframe\">\n",
       "  <thead>\n",
       "    <tr style=\"text-align: right;\">\n",
       "      <th></th>\n",
       "      <th>acousticness</th>\n",
       "      <th>danceability</th>\n",
       "      <th>duration_ms</th>\n",
       "      <th>energy</th>\n",
       "      <th>instrumentalness</th>\n",
       "      <th>key</th>\n",
       "      <th>liveness</th>\n",
       "      <th>loudness</th>\n",
       "      <th>mode</th>\n",
       "      <th>speechiness</th>\n",
       "      <th>tempo</th>\n",
       "      <th>time_signature</th>\n",
       "      <th>valence</th>\n",
       "      <th>popularity</th>\n",
       "    </tr>\n",
       "  </thead>\n",
       "  <tbody>\n",
       "    <tr>\n",
       "      <th>acousticness</th>\n",
       "      <td>1.000000</td>\n",
       "      <td>-0.360462</td>\n",
       "      <td>0.033426</td>\n",
       "      <td>-0.710067</td>\n",
       "      <td>0.272685</td>\n",
       "      <td>-0.019987</td>\n",
       "      <td>-0.100545</td>\n",
       "      <td>-0.603366</td>\n",
       "      <td>0.067171</td>\n",
       "      <td>-0.119231</td>\n",
       "      <td>-0.216328</td>\n",
       "      <td>-0.165319</td>\n",
       "      <td>-0.177023</td>\n",
       "      <td>-0.015302</td>\n",
       "    </tr>\n",
       "    <tr>\n",
       "      <th>danceability</th>\n",
       "      <td>-0.360462</td>\n",
       "      <td>1.000000</td>\n",
       "      <td>-0.126781</td>\n",
       "      <td>0.286196</td>\n",
       "      <td>-0.305112</td>\n",
       "      <td>0.021123</td>\n",
       "      <td>-0.137377</td>\n",
       "      <td>0.431554</td>\n",
       "      <td>-0.057912</td>\n",
       "      <td>0.248192</td>\n",
       "      <td>0.081791</td>\n",
       "      <td>0.206328</td>\n",
       "      <td>0.461468</td>\n",
       "      <td>0.039150</td>\n",
       "    </tr>\n",
       "    <tr>\n",
       "      <th>duration_ms</th>\n",
       "      <td>0.033426</td>\n",
       "      <td>-0.126781</td>\n",
       "      <td>1.000000</td>\n",
       "      <td>-0.019885</td>\n",
       "      <td>0.029124</td>\n",
       "      <td>-0.001880</td>\n",
       "      <td>-0.003661</td>\n",
       "      <td>-0.018595</td>\n",
       "      <td>0.010321</td>\n",
       "      <td>-0.101955</td>\n",
       "      <td>-0.009657</td>\n",
       "      <td>0.021007</td>\n",
       "      <td>-0.141837</td>\n",
       "      <td>-0.004045</td>\n",
       "    </tr>\n",
       "    <tr>\n",
       "      <th>energy</th>\n",
       "      <td>-0.710067</td>\n",
       "      <td>0.286196</td>\n",
       "      <td>-0.019885</td>\n",
       "      <td>1.000000</td>\n",
       "      <td>-0.301308</td>\n",
       "      <td>0.039843</td>\n",
       "      <td>0.209448</td>\n",
       "      <td>0.766697</td>\n",
       "      <td>-0.069263</td>\n",
       "      <td>0.105078</td>\n",
       "      <td>0.229930</td>\n",
       "      <td>0.165030</td>\n",
       "      <td>0.314768</td>\n",
       "      <td>0.012367</td>\n",
       "    </tr>\n",
       "    <tr>\n",
       "      <th>instrumentalness</th>\n",
       "      <td>0.272685</td>\n",
       "      <td>-0.305112</td>\n",
       "      <td>0.029124</td>\n",
       "      <td>-0.301308</td>\n",
       "      <td>1.000000</td>\n",
       "      <td>-0.025072</td>\n",
       "      <td>-0.058390</td>\n",
       "      <td>-0.508519</td>\n",
       "      <td>-0.002211</td>\n",
       "      <td>-0.217359</td>\n",
       "      <td>-0.086894</td>\n",
       "      <td>-0.084223</td>\n",
       "      <td>-0.246869</td>\n",
       "      <td>-0.032407</td>\n",
       "    </tr>\n",
       "    <tr>\n",
       "      <th>key</th>\n",
       "      <td>-0.019987</td>\n",
       "      <td>0.021123</td>\n",
       "      <td>-0.001880</td>\n",
       "      <td>0.039843</td>\n",
       "      <td>-0.025072</td>\n",
       "      <td>1.000000</td>\n",
       "      <td>0.009191</td>\n",
       "      <td>0.028101</td>\n",
       "      <td>-0.176238</td>\n",
       "      <td>0.010354</td>\n",
       "      <td>0.005464</td>\n",
       "      <td>0.008878</td>\n",
       "      <td>0.043348</td>\n",
       "      <td>0.000606</td>\n",
       "    </tr>\n",
       "    <tr>\n",
       "      <th>liveness</th>\n",
       "      <td>-0.100545</td>\n",
       "      <td>-0.137377</td>\n",
       "      <td>-0.003661</td>\n",
       "      <td>0.209448</td>\n",
       "      <td>-0.058390</td>\n",
       "      <td>0.009191</td>\n",
       "      <td>1.000000</td>\n",
       "      <td>0.062168</td>\n",
       "      <td>-0.001325</td>\n",
       "      <td>0.106801</td>\n",
       "      <td>-0.009126</td>\n",
       "      <td>-0.018307</td>\n",
       "      <td>-0.007800</td>\n",
       "      <td>-0.009970</td>\n",
       "    </tr>\n",
       "    <tr>\n",
       "      <th>loudness</th>\n",
       "      <td>-0.603366</td>\n",
       "      <td>0.431554</td>\n",
       "      <td>-0.018595</td>\n",
       "      <td>0.766697</td>\n",
       "      <td>-0.508519</td>\n",
       "      <td>0.028101</td>\n",
       "      <td>0.062168</td>\n",
       "      <td>1.000000</td>\n",
       "      <td>-0.036081</td>\n",
       "      <td>0.074456</td>\n",
       "      <td>0.223067</td>\n",
       "      <td>0.179679</td>\n",
       "      <td>0.319881</td>\n",
       "      <td>0.031709</td>\n",
       "    </tr>\n",
       "    <tr>\n",
       "      <th>mode</th>\n",
       "      <td>0.067171</td>\n",
       "      <td>-0.057912</td>\n",
       "      <td>0.010321</td>\n",
       "      <td>-0.069263</td>\n",
       "      <td>-0.002211</td>\n",
       "      <td>-0.176238</td>\n",
       "      <td>-0.001325</td>\n",
       "      <td>-0.036081</td>\n",
       "      <td>1.000000</td>\n",
       "      <td>-0.053554</td>\n",
       "      <td>-0.000249</td>\n",
       "      <td>-0.036244</td>\n",
       "      <td>0.011082</td>\n",
       "      <td>-0.004131</td>\n",
       "    </tr>\n",
       "    <tr>\n",
       "      <th>speechiness</th>\n",
       "      <td>-0.119231</td>\n",
       "      <td>0.248192</td>\n",
       "      <td>-0.101955</td>\n",
       "      <td>0.105078</td>\n",
       "      <td>-0.217359</td>\n",
       "      <td>0.010354</td>\n",
       "      <td>0.106801</td>\n",
       "      <td>0.074456</td>\n",
       "      <td>-0.053554</td>\n",
       "      <td>1.000000</td>\n",
       "      <td>0.054827</td>\n",
       "      <td>0.053707</td>\n",
       "      <td>0.121552</td>\n",
       "      <td>0.008006</td>\n",
       "    </tr>\n",
       "    <tr>\n",
       "      <th>tempo</th>\n",
       "      <td>-0.216328</td>\n",
       "      <td>0.081791</td>\n",
       "      <td>-0.009657</td>\n",
       "      <td>0.229930</td>\n",
       "      <td>-0.086894</td>\n",
       "      <td>0.005464</td>\n",
       "      <td>-0.009126</td>\n",
       "      <td>0.223067</td>\n",
       "      <td>-0.000249</td>\n",
       "      <td>0.054827</td>\n",
       "      <td>1.000000</td>\n",
       "      <td>0.083759</td>\n",
       "      <td>0.104857</td>\n",
       "      <td>0.003402</td>\n",
       "    </tr>\n",
       "    <tr>\n",
       "      <th>time_signature</th>\n",
       "      <td>-0.165319</td>\n",
       "      <td>0.206328</td>\n",
       "      <td>0.021007</td>\n",
       "      <td>0.165030</td>\n",
       "      <td>-0.084223</td>\n",
       "      <td>0.008878</td>\n",
       "      <td>-0.018307</td>\n",
       "      <td>0.179679</td>\n",
       "      <td>-0.036244</td>\n",
       "      <td>0.053707</td>\n",
       "      <td>0.083759</td>\n",
       "      <td>1.000000</td>\n",
       "      <td>0.069162</td>\n",
       "      <td>0.011852</td>\n",
       "    </tr>\n",
       "    <tr>\n",
       "      <th>valence</th>\n",
       "      <td>-0.177023</td>\n",
       "      <td>0.461468</td>\n",
       "      <td>-0.141837</td>\n",
       "      <td>0.314768</td>\n",
       "      <td>-0.246869</td>\n",
       "      <td>0.043348</td>\n",
       "      <td>-0.007800</td>\n",
       "      <td>0.319881</td>\n",
       "      <td>0.011082</td>\n",
       "      <td>0.121552</td>\n",
       "      <td>0.104857</td>\n",
       "      <td>0.069162</td>\n",
       "      <td>1.000000</td>\n",
       "      <td>0.007555</td>\n",
       "    </tr>\n",
       "    <tr>\n",
       "      <th>popularity</th>\n",
       "      <td>-0.015302</td>\n",
       "      <td>0.039150</td>\n",
       "      <td>-0.004045</td>\n",
       "      <td>0.012367</td>\n",
       "      <td>-0.032407</td>\n",
       "      <td>0.000606</td>\n",
       "      <td>-0.009970</td>\n",
       "      <td>0.031709</td>\n",
       "      <td>-0.004131</td>\n",
       "      <td>0.008006</td>\n",
       "      <td>0.003402</td>\n",
       "      <td>0.011852</td>\n",
       "      <td>0.007555</td>\n",
       "      <td>1.000000</td>\n",
       "    </tr>\n",
       "  </tbody>\n",
       "</table>\n",
       "</div>"
      ],
      "text/plain": [
       "                  acousticness  danceability  duration_ms    energy  \\\n",
       "acousticness          1.000000     -0.360462     0.033426 -0.710067   \n",
       "danceability         -0.360462      1.000000    -0.126781  0.286196   \n",
       "duration_ms           0.033426     -0.126781     1.000000 -0.019885   \n",
       "energy               -0.710067      0.286196    -0.019885  1.000000   \n",
       "instrumentalness      0.272685     -0.305112     0.029124 -0.301308   \n",
       "key                  -0.019987      0.021123    -0.001880  0.039843   \n",
       "liveness             -0.100545     -0.137377    -0.003661  0.209448   \n",
       "loudness             -0.603366      0.431554    -0.018595  0.766697   \n",
       "mode                  0.067171     -0.057912     0.010321 -0.069263   \n",
       "speechiness          -0.119231      0.248192    -0.101955  0.105078   \n",
       "tempo                -0.216328      0.081791    -0.009657  0.229930   \n",
       "time_signature       -0.165319      0.206328     0.021007  0.165030   \n",
       "valence              -0.177023      0.461468    -0.141837  0.314768   \n",
       "popularity           -0.015302      0.039150    -0.004045  0.012367   \n",
       "\n",
       "                  instrumentalness       key  liveness  loudness      mode  \\\n",
       "acousticness              0.272685 -0.019987 -0.100545 -0.603366  0.067171   \n",
       "danceability             -0.305112  0.021123 -0.137377  0.431554 -0.057912   \n",
       "duration_ms               0.029124 -0.001880 -0.003661 -0.018595  0.010321   \n",
       "energy                   -0.301308  0.039843  0.209448  0.766697 -0.069263   \n",
       "instrumentalness          1.000000 -0.025072 -0.058390 -0.508519 -0.002211   \n",
       "key                      -0.025072  1.000000  0.009191  0.028101 -0.176238   \n",
       "liveness                 -0.058390  0.009191  1.000000  0.062168 -0.001325   \n",
       "loudness                 -0.508519  0.028101  0.062168  1.000000 -0.036081   \n",
       "mode                     -0.002211 -0.176238 -0.001325 -0.036081  1.000000   \n",
       "speechiness              -0.217359  0.010354  0.106801  0.074456 -0.053554   \n",
       "tempo                    -0.086894  0.005464 -0.009126  0.223067 -0.000249   \n",
       "time_signature           -0.084223  0.008878 -0.018307  0.179679 -0.036244   \n",
       "valence                  -0.246869  0.043348 -0.007800  0.319881  0.011082   \n",
       "popularity               -0.032407  0.000606 -0.009970  0.031709 -0.004131   \n",
       "\n",
       "                  speechiness     tempo  time_signature   valence  popularity  \n",
       "acousticness        -0.119231 -0.216328       -0.165319 -0.177023   -0.015302  \n",
       "danceability         0.248192  0.081791        0.206328  0.461468    0.039150  \n",
       "duration_ms         -0.101955 -0.009657        0.021007 -0.141837   -0.004045  \n",
       "energy               0.105078  0.229930        0.165030  0.314768    0.012367  \n",
       "instrumentalness    -0.217359 -0.086894       -0.084223 -0.246869   -0.032407  \n",
       "key                  0.010354  0.005464        0.008878  0.043348    0.000606  \n",
       "liveness             0.106801 -0.009126       -0.018307 -0.007800   -0.009970  \n",
       "loudness             0.074456  0.223067        0.179679  0.319881    0.031709  \n",
       "mode                -0.053554 -0.000249       -0.036244  0.011082   -0.004131  \n",
       "speechiness          1.000000  0.054827        0.053707  0.121552    0.008006  \n",
       "tempo                0.054827  1.000000        0.083759  0.104857    0.003402  \n",
       "time_signature       0.053707  0.083759        1.000000  0.069162    0.011852  \n",
       "valence              0.121552  0.104857        0.069162  1.000000    0.007555  \n",
       "popularity           0.008006  0.003402        0.011852  0.007555    1.000000  "
      ]
     },
     "execution_count": 457,
     "metadata": {},
     "output_type": "execute_result"
    }
   ],
   "source": [
    "df.corr()"
   ]
  },
  {
   "cell_type": "code",
   "execution_count": 473,
   "id": "5b2f0861",
   "metadata": {},
   "outputs": [
    {
     "data": {
      "image/png": "[encoded data removed]",
      "text/plain": [
       "<Figure size 1080x720 with 16 Axes>"
      ]
     },
     "metadata": {
      "needs_background": "light"
     },
     "output_type": "display_data"
    }
   ],
   "source": [
    "# visualizing distributions\n",
    "df.hist(bins=50, figsize=(15,10), ec='w')\n",
    "plt.show()"
   ]
  },
  {
   "cell_type": "code",
   "execution_count": 474,
   "id": "de481ca1",
   "metadata": {},
   "outputs": [
    {
     "data": {
      "image/png": "[encoded data removed]",
      "text/plain": [
       "<Figure size 432x216 with 2 Axes>"
      ]
     },
     "metadata": {
      "needs_background": "light"
     },
     "output_type": "display_data"
    }
   ],
   "source": [
    "g = sns.FacetGrid(df, col = \"popularity\")\n",
    "g.map(sns.distplot, \"acousticness\", bins = 25)\n",
    "plt.show()"
   ]
  },
  {
   "cell_type": "code",
   "execution_count": 475,
   "id": "de6ea72b",
   "metadata": {},
   "outputs": [
    {
     "data": {
      "image/png": "[encoded data removed]",
      "text/plain": [
       "<Figure size 432x216 with 2 Axes>"
      ]
     },
     "metadata": {
      "needs_background": "light"
     },
     "output_type": "display_data"
    }
   ],
   "source": [
    "g = sns.FacetGrid(df, col = \"popularity\")\n",
    "g.map(sns.distplot, \"danceability\", bins = 25)\n",
    "plt.show()"
   ]
  },
  {
   "cell_type": "code",
   "execution_count": 476,
   "id": "bb0988b2",
   "metadata": {},
   "outputs": [
    {
     "data": {
      "image/png": "[encoded data removed]",
      "text/plain": [
       "<Figure size 432x216 with 2 Axes>"
      ]
     },
     "metadata": {
      "needs_background": "light"
     },
     "output_type": "display_data"
    }
   ],
   "source": [
    "g = sns.FacetGrid(df, col = \"popularity\")\n",
    "g.map(sns.distplot, \"loudness\", bins = 25)\n",
    "plt.show()"
   ]
  },
  {
   "cell_type": "code",
   "execution_count": 477,
   "id": "7b593e76",
   "metadata": {},
   "outputs": [
    {
     "data": {
      "image/png": "[encoded data removed]",
      "text/plain": [
       "<Figure size 432x216 with 2 Axes>"
      ]
     },
     "metadata": {
      "needs_background": "light"
     },
     "output_type": "display_data"
    }
   ],
   "source": [
    "g = sns.FacetGrid(df, col = \"popularity\")\n",
    "g.map(sns.distplot, \"instrumentalness\", bins = 25)\n",
    "plt.show()"
   ]
  },
  {
   "cell_type": "code",
   "execution_count": 478,
   "id": "c077fc57",
   "metadata": {},
   "outputs": [],
   "source": [
    "### Models"
   ]
  },
  {
   "cell_type": "code",
   "execution_count": 479,
   "id": "12f25738",
   "metadata": {},
   "outputs": [],
   "source": [
    "df.drop([\"track_name\",\"track_id\",\"artist_name\"],axis=1,inplace=True)"
   ]
  },
  {
   "cell_type": "code",
   "execution_count": 480,
   "id": "d3cfb6fb",
   "metadata": {},
   "outputs": [
    {
     "data": {
      "text/plain": [
       "Index([], dtype='object')"
      ]
     },
     "execution_count": 480,
     "metadata": {},
     "output_type": "execute_result"
    }
   ],
   "source": [
    "df.columns[df.isnull().any()]"
   ]
  },
  {
   "cell_type": "code",
   "execution_count": 481,
   "id": "9ab6a739",
   "metadata": {},
   "outputs": [],
   "source": [
    "def change_type(var):\n",
    "    df[var] = df[var].astype(int)"
   ]
  },
  {
   "cell_type": "code",
   "execution_count": 482,
   "id": "b98255a0",
   "metadata": {},
   "outputs": [],
   "source": [
    "df = pd.get_dummies(df, columns=categorical_cols)"
   ]
  },
  {
   "cell_type": "code",
   "execution_count": 483,
   "id": "1260a267",
   "metadata": {},
   "outputs": [],
   "source": [
    "column=['key_0', 'key_1', 'key_2', 'key_3', 'key_4', 'key_5',\n",
    "       'key_6', 'key_7', 'key_8', 'key_9', 'key_10', 'key_11', 'mode_0',\n",
    "       'mode_1', 'time_signature_0', 'time_signature_1', 'time_signature_3',\n",
    "       'time_signature_4', 'time_signature_5']\n",
    "for i in column:\n",
    "    change_type(i)\n",
    "      "
   ]
  },
  {
   "cell_type": "code",
   "execution_count": 508,
   "id": "23966306",
   "metadata": {},
   "outputs": [],
   "source": [
    "#data preparation\n",
    "y = df[\"popularity\"].values\n",
    "X=df.drop([\"popularity\"],axis=1)\n",
    "\n",
    "X_train, X_test, y_train, y_test = train_test_split(X,y, test_size=0.30, random_state=42)\n",
    "\n",
    "sc=StandardScaler()\n",
    "X_train = sc.fit_transform(X_train)\n",
    "X_test = sc.transform(X_test)"
   ]
  },
  {
   "cell_type": "code",
   "execution_count": 509,
   "id": "d53aac39",
   "metadata": {},
   "outputs": [],
   "source": [
    "from sklearn.model_selection import train_test_split, StratifiedKFold, GridSearchCV\n",
    "from sklearn.linear_model import LogisticRegression\n",
    "from sklearn.svm import SVC\n",
    "from sklearn.ensemble import RandomForestClassifier, VotingClassifier, GradientBoostingClassifier, AdaBoostClassifier\n",
    "from sklearn.neighbors import KNeighborsClassifier\n",
    "from sklearn.tree import DecisionTreeClassifier\n",
    "from sklearn.metrics import accuracy_score\n",
    "from sklearn.ensemble import ExtraTreesClassifier\n",
    "import xgboost\n",
    "from xgboost import XGBClassifier\n",
    "from sklearn.preprocessing import StandardScaler"
   ]
  },
  {
   "cell_type": "code",
   "execution_count": 510,
   "id": "83e9410b",
   "metadata": {},
   "outputs": [
    {
     "name": "stdout",
     "output_type": "stream",
     "text": [
      "Training Accuracy: % 99.69\n",
      "Testing Accuracy: % 99.72\n"
     ]
    }
   ],
   "source": [
    "logreg = LogisticRegression()\n",
    "logreg.fit(X_train, y_train)\n",
    "acc_log_train = round(logreg.score(X_train, y_train)*100,2)  \n",
    "acc_log_test = round(logreg.score(X_test, y_test)*100,2)\n",
    "print(\"Training Accuracy: % {}\".format(acc_log_train))\n",
    "print(\"Testing Accuracy: % {}\".format(acc_log_test))"
   ]
  },
  {
   "cell_type": "code",
   "execution_count": 512,
   "id": "d9ed7e4b",
   "metadata": {},
   "outputs": [
    {
     "data": {
      "text/plain": [
       "Text(0.5, 1.0, 'ROC')"
      ]
     },
     "execution_count": 512,
     "metadata": {},
     "output_type": "execute_result"
    },
    {
     "data": {
      "image/png": "[encoded data removed]",
      "text/plain": [
       "<Figure size 432x288 with 1 Axes>"
      ]
     },
     "metadata": {
      "needs_background": "light"
     },
     "output_type": "display_data"
    }
   ],
   "source": [
    "# ROC Curve with logistic regression\n",
    "from sklearn.metrics import roc_curve\n",
    "from sklearn.linear_model import LogisticRegression\n",
    "from sklearn.metrics import confusion_matrix, classification_report\n",
    "logreg = LogisticRegression()\n",
    "logreg.fit(X_train,y_train)\n",
    "y_pred_prob = logreg.predict_proba(X_test)[:,1]\n",
    "fpr, tpr, thresholds = roc_curve(y_test, y_pred_prob)\n",
    "\n",
    "# Plot ROC curve\n",
    "plt.plot([0, 1], [0, 1], 'k--')\n",
    "plt.plot(fpr, tpr,color=\"red\")\n",
    "plt.xlabel('False Positive Rate')\n",
    "plt.ylabel('True Positive Rate')\n",
    "plt.title('ROC')"
   ]
  },
  {
   "cell_type": "code",
   "execution_count": 513,
   "id": "4c2651a7",
   "metadata": {},
   "outputs": [
    {
     "name": "stdout",
     "output_type": "stream",
     "text": [
      "Cross_val Scores:  [0.99692003 0.99692003 0.99681003 0.99681003 0.99691969 0.99691969\n",
      " 0.99691969 0.99691969 0.99691969 0.99691969]\n",
      "Cross_val scores average:  0.9968978277213928\n"
     ]
    }
   ],
   "source": [
    "from sklearn.model_selection import cross_val_score\n",
    "k = 10\n",
    "cv_result = cross_val_score(logreg,X_train,y_train,cv=k)\n",
    "cross_val_log=np.sum(cv_result)/k\n",
    "print('Cross_val Scores: ',cv_result)\n",
    "print('Cross_val scores average: ',np.sum(cv_result)/k)"
   ]
  },
  {
   "cell_type": "code",
   "execution_count": 514,
   "id": "a8dfd27d",
   "metadata": {},
   "outputs": [
    {
     "name": "stdout",
     "output_type": "stream",
     "text": [
      "Tuned hyperparameters : {'C': 0.001, 'penalty': 'l2'}\n",
      "Best Accuracy: 0.9968978262775208\n"
     ]
    }
   ],
   "source": [
    "#GridSearchCV with Logreg\n",
    "from sklearn.model_selection import GridSearchCV\n",
    "param_grid = {'C': np.logspace(-3, 3, 7), 'penalty': ['l1', 'l2']}\n",
    "logreg = LogisticRegression()\n",
    "logreg_cv = GridSearchCV(logreg,param_grid,cv=3)\n",
    "logreg_cv.fit(X_train,y_train)\n",
    "print(\"Tuned hyperparameters : {}\".format(logreg_cv.best_params_))\n",
    "print(\"Best Accuracy: {}\".format(logreg_cv.best_score_))"
   ]
  },
  {
   "cell_type": "code",
   "execution_count": 515,
   "id": "e392bff6",
   "metadata": {},
   "outputs": [],
   "source": [
    "Logistic_score=logreg_cv.best_score_\n",
    "CrossVal_Logistic_score=cross_val_log"
   ]
  },
  {
   "cell_type": "code",
   "execution_count": 523,
   "id": "b64981fb",
   "metadata": {},
   "outputs": [
    {
     "data": {
      "text/plain": [
       "0.9968978262775208"
      ]
     },
     "execution_count": 523,
     "metadata": {},
     "output_type": "execute_result"
    }
   ],
   "source": [
    "Logistic_score"
   ]
  },
  {
   "cell_type": "code",
   "execution_count": 524,
   "id": "b118536c",
   "metadata": {},
   "outputs": [
    {
     "data": {
      "text/plain": [
       "0.9968978277213928"
      ]
     },
     "execution_count": 524,
     "metadata": {},
     "output_type": "execute_result"
    }
   ],
   "source": [
    "CrossVal_Logistic_score"
   ]
  },
  {
   "cell_type": "code",
   "execution_count": null,
   "id": "4b5de643",
   "metadata": {},
   "outputs": [],
   "source": [
    "### SVM"
   ]
  },
  {
   "cell_type": "code",
   "execution_count": 568,
   "id": "f359f7b6",
   "metadata": {},
   "outputs": [
    {
     "name": "stdout",
     "output_type": "stream",
     "text": [
      "Train accuracy of svm algo: 0.9968978262782716\n",
      "Test accuracy of svm algo: 0.9972278549244077\n"
     ]
    }
   ],
   "source": [
    "from sklearn.svm import SVC\n",
    "svm= SVC(random_state=1,probability=True)  #kernel='rbf'\n",
    "svm.fit(X_train,y_train)\n",
    "print(\"Train accuracy of svm algo:\",svm.score(X_train,y_train))\n",
    "print(\"Test accuracy of svm algo:\",svm.score(X_test,y_test))"
   ]
  },
  {
   "cell_type": "code",
   "execution_count": 537,
   "id": "fd769501",
   "metadata": {},
   "outputs": [
    {
     "name": "stdout",
     "output_type": "stream",
     "text": [
      "Cross_val Scores:  [0.99692003 0.99692003 0.99681003 0.99681003 0.99691969 0.99691969\n",
      " 0.99691969 0.99691969 0.99691969 0.99691969]\n",
      "Cross_val scores average:  0.9968978277213928\n"
     ]
    }
   ],
   "source": [
    "from sklearn.model_selection import cross_val_score\n",
    "k = 10\n",
    "cv_result = cross_val_score(svm,X_train,y_train,cv=k) \n",
    "cv_result_svm= np.sum(cv_result)/k\n",
    "print('Cross_val Scores: ',cv_result)\n",
    "print('Cross_val scores average: ',np.sum(cv_result)/k)"
   ]
  },
  {
   "cell_type": "code",
   "execution_count": 538,
   "id": "6dde95b2",
   "metadata": {},
   "outputs": [],
   "source": [
    "SVM_score= svm.score(X_test,y_test)\n",
    "CrossVal_SVM_score=cv_result_svm"
   ]
  },
  {
   "cell_type": "code",
   "execution_count": 539,
   "id": "5df02c06",
   "metadata": {},
   "outputs": [
    {
     "name": "stdout",
     "output_type": "stream",
     "text": [
      "Tuned Model Parameters: {'SVM__C': 1, 'SVM__gamma': 0.1}\n",
      "Test accuracy: 0.9972278549244077\n"
     ]
    }
   ],
   "source": [
    "from sklearn.svm import SVC\n",
    "from sklearn.preprocessing import StandardScaler\n",
    "from sklearn.pipeline import Pipeline\n",
    "\n",
    "steps = [('scalar', StandardScaler()),\n",
    "         ('SVM', SVC())]\n",
    "pipeline = Pipeline(steps)\n",
    "parameters = {'SVM__C':[1, 10, 100],\n",
    "              'SVM__gamma':[0.1, 0.01]}\n",
    "cv = GridSearchCV(pipeline,param_grid=parameters,cv=10)\n",
    "cv.fit(X_train,y_train)\n",
    "y_pred = cv.predict(X_test)\n",
    "\n",
    "print(\"Tuned Model Parameters: {}\".format(cv.best_params_))\n",
    "print(\"Test accuracy: {}\".format(cv.score(X_test, y_test)))"
   ]
  },
  {
   "cell_type": "code",
   "execution_count": 540,
   "id": "6ade9b49",
   "metadata": {},
   "outputs": [],
   "source": [
    "### Naive Bayes"
   ]
  },
  {
   "cell_type": "code",
   "execution_count": 541,
   "id": "ebd7556c",
   "metadata": {},
   "outputs": [
    {
     "name": "stdout",
     "output_type": "stream",
     "text": [
      "Train accuracy of naive bayes: 0.3747469858312065\n",
      "Test accuracy of naive bayes: 0.3726738365974486\n"
     ]
    }
   ],
   "source": [
    "from sklearn.naive_bayes import GaussianNB\n",
    "nb= GaussianNB()\n",
    "nb.fit(X_train,y_train)\n",
    "print(\"Train accuracy of naive bayes:\",nb.score(X_train,y_train))\n",
    "print(\"Test accuracy of naive bayes:\",nb.score(X_test,y_test))"
   ]
  },
  {
   "cell_type": "code",
   "execution_count": 542,
   "id": "fb8af4d0",
   "metadata": {},
   "outputs": [],
   "source": [
    "Naive_bayes_score=nb.score(X_test,y_test)"
   ]
  },
  {
   "cell_type": "code",
   "execution_count": 543,
   "id": "a1bd3c74",
   "metadata": {},
   "outputs": [],
   "source": [
    "### Decision Tree Classifier"
   ]
  },
  {
   "cell_type": "code",
   "execution_count": 544,
   "id": "09c6e411",
   "metadata": {},
   "outputs": [
    {
     "name": "stdout",
     "output_type": "stream",
     "text": [
      "Train ccuracy of decision tree: 0.9999669981518965\n",
      "Test accuracy of decision tree: 0.9934033214404887\n"
     ]
    }
   ],
   "source": [
    "from sklearn.metrics import accuracy_score,recall_score,precision_score,confusion_matrix,f1_score\n",
    "from sklearn.tree import DecisionTreeClassifier\n",
    "\n",
    "dt= DecisionTreeClassifier()\n",
    "dt.fit(X_train,y_train)\n",
    "y_pred=dt.predict(X_test)\n",
    "DecisionTree_score=dt.score(X_test,y_test)\n",
    "print(\"Train ccuracy of decision tree:\",dt.score(X_train,y_train))\n",
    "print(\"Test accuracy of decision tree:\",dt.score(X_test,y_test))"
   ]
  },
  {
   "cell_type": "code",
   "execution_count": 545,
   "id": "22eb1d38",
   "metadata": {},
   "outputs": [
    {
     "name": "stdout",
     "output_type": "stream",
     "text": [
      "Cross_val Scores:  [0.99296007 0.99307007 0.99219008 0.99373006 0.99405941 0.99317932\n",
      " 0.99273927 0.99306931 0.99317932 0.99273927]\n",
      "Cross_val scores average:  0.9930916177086854\n"
     ]
    }
   ],
   "source": [
    "from sklearn.model_selection import cross_val_score\n",
    "k =10\n",
    "cv_result = cross_val_score(dt,X_train,y_train,cv=k) # uses R^2 as score \n",
    "print('Cross_val Scores: ',cv_result)\n",
    "print('Cross_val scores average: ',np.sum(cv_result)/k)"
   ]
  },
  {
   "cell_type": "code",
   "execution_count": 546,
   "id": "5b67adec",
   "metadata": {},
   "outputs": [],
   "source": [
    "### Random Forest Classifier"
   ]
  },
  {
   "cell_type": "code",
   "execution_count": 547,
   "id": "cb988e0a",
   "metadata": {},
   "outputs": [
    {
     "name": "stdout",
     "output_type": "stream",
     "text": [
      "Train ccuracy of random forest 0.9999669981518965\n",
      "Test accuracy of random forest 0.9973048589542852\n"
     ]
    }
   ],
   "source": [
    "from sklearn.ensemble import RandomForestClassifier\n",
    "rf=RandomForestClassifier(n_estimators=150,random_state = 3)\n",
    "rf.fit(X_train,y_train)\n",
    "print(\"Train ccuracy of random forest\",rf.score(X_train,y_train))\n",
    "print(\"Test accuracy of random forest\",rf.score(X_test,y_test))\n",
    "RandomForestClassifier_score=rf.score(X_test,y_test)\n",
    "y_pred=rf.predict(X_test)\n",
    "t_true=y_test"
   ]
  },
  {
   "cell_type": "code",
   "execution_count": 548,
   "id": "65f9e809",
   "metadata": {},
   "outputs": [
    {
     "name": "stdout",
     "output_type": "stream",
     "text": [
      "Cross_val Scores:  [0.99692003 0.99692003 0.99692003 0.99681003 0.9970297  0.99691969\n",
      " 0.99691969 0.99691969 0.99669967 0.99691969]\n",
      "Cross_val scores average:  0.9968978265112838\n"
     ]
    }
   ],
   "source": [
    "from sklearn.model_selection import cross_val_score\n",
    "k = 10\n",
    "cv_result = cross_val_score(rf,X_train,y_train,cv=k) # uses R^2 as score \n",
    "cv_result_randomforest=np.sum(cv_result)/k\n",
    "print('Cross_val Scores: ',cv_result)\n",
    "print('Cross_val scores average: ',np.sum(cv_result)/k)"
   ]
  },
  {
   "cell_type": "code",
   "execution_count": 549,
   "id": "37edc635",
   "metadata": {},
   "outputs": [],
   "source": [
    "CrossVal_RandomForestClassifier_score=cv_result_randomforest"
   ]
  },
  {
   "cell_type": "code",
   "execution_count": 550,
   "id": "68bfc2d4",
   "metadata": {},
   "outputs": [],
   "source": [
    "### Confusion Matrix with Random Forest"
   ]
  },
  {
   "cell_type": "code",
   "execution_count": 551,
   "id": "f8b55c2d",
   "metadata": {},
   "outputs": [
    {
     "name": "stdout",
     "output_type": "stream",
     "text": [
      "Confusion matrix: \n",
      " [[38850     1]\n",
      " [  105     3]]\n",
      "Classification report: \n",
      "               precision    recall  f1-score   support\n",
      "\n",
      "           0       1.00      1.00      1.00     38851\n",
      "           1       0.75      0.03      0.05       108\n",
      "\n",
      "    accuracy                           1.00     38959\n",
      "   macro avg       0.87      0.51      0.53     38959\n",
      "weighted avg       1.00      1.00      1.00     38959\n",
      "\n"
     ]
    }
   ],
   "source": [
    "from sklearn.metrics import classification_report, confusion_matrix\n",
    "from sklearn.ensemble import RandomForestClassifier\n",
    "\n",
    "rf = RandomForestClassifier(random_state = 4)\n",
    "rf.fit(X_train,y_train)\n",
    "y_pred = rf.predict(X_test)\n",
    "cm = confusion_matrix(y_test,y_pred)\n",
    "print('Confusion matrix: \\n',cm)\n",
    "print('Classification report: \\n',classification_report(y_test,y_pred))"
   ]
  },
  {
   "cell_type": "code",
   "execution_count": 569,
   "id": "a3fb306c",
   "metadata": {},
   "outputs": [
    {
     "name": "stdout",
     "output_type": "stream",
     "text": [
      "The train accuracy for Random Forest and SVM is: 0.9969858312065476\n",
      "The test accuracy for Random Forest and SVM is: 0.9972278549244077\n"
     ]
    }
   ],
   "source": [
    "#Voting Classifier\n",
    "from sklearn.ensemble import VotingClassifier\n",
    "ensemble=VotingClassifier(estimators=[('Random Forest', rf), ('SVM', svm)], \n",
    "                       voting='soft', weights=[2,1]).fit(X_train,y_train)\n",
    "print('The train accuracy for Random Forest and SVM is:',ensemble.score(X_train,y_train))\n",
    "print('The test accuracy for Random Forest and SVM is:',ensemble.score(X_test,y_test))"
   ]
  },
  {
   "cell_type": "code",
   "execution_count": 554,
   "id": "a79e548d",
   "metadata": {},
   "outputs": [
    {
     "name": "stdout",
     "output_type": "stream",
     "text": [
      "Cross_val Scores:  [0.99691986 0.99691986 0.99686486 0.99686486 0.99691969]\n",
      "Cross_val scores average:  0.9968978265188049\n"
     ]
    }
   ],
   "source": [
    "from sklearn.model_selection import cross_val_score\n",
    "k = 5\n",
    "cv_result = cross_val_score(ensemble,X_train,y_train,cv=k) # uses R^2 as score \n",
    "print('Cross_val Scores: ',cv_result)\n",
    "print('Cross_val scores average: ',np.sum(cv_result)/k)"
   ]
  },
  {
   "cell_type": "code",
   "execution_count": 555,
   "id": "df48c71a",
   "metadata": {},
   "outputs": [
    {
     "name": "stdout",
     "output_type": "stream",
     "text": [
      "[0.04404084 0.04732217 0.04509125 0.04495537 0.06800715 0.04971195\n",
      " 0.05369927 0.04711036 0.04168114 0.04442554 0.02703697 0.03796995\n",
      " 0.03921135 0.         0.02893467 0.01940748 0.05826665 0.04679062\n",
      " 0.04191495 0.02834084 0.03907433 0.04445516 0.05267256 0.\n",
      " 0.         0.         0.         0.0498794  0.        ]\n"
     ]
    }
   ],
   "source": [
    "# plot feature importance manually\n",
    "from numpy import loadtxt\n",
    "from xgboost import XGBClassifier\n",
    "from matplotlib import pyplot\n",
    "\n",
    "# fit model no training data\n",
    "model = XGBClassifier()\n",
    "model.fit(X_train, y_train)\n",
    "# feature importance\n",
    "print(model.feature_importances_)\n",
    "# plot\n",
    "#pyplot.bar(range(len(model.feature_importances_)), model.feature_importances_)\n",
    "#pyplot.show()"
   ]
  },
  {
   "cell_type": "code",
   "execution_count": 558,
   "id": "cbf2b64b",
   "metadata": {},
   "outputs": [
    {
     "name": "stdout",
     "output_type": "stream",
     "text": [
      "Accuracy: 99.73%\n",
      "Thresh=0.000, n=29, Accuracy: 99.73%\n",
      "Thresh=0.000, n=29, Accuracy: 99.73%\n",
      "Thresh=0.000, n=29, Accuracy: 99.73%\n",
      "Thresh=0.000, n=29, Accuracy: 99.73%\n",
      "Thresh=0.000, n=29, Accuracy: 99.73%\n",
      "Thresh=0.000, n=29, Accuracy: 99.73%\n",
      "Thresh=0.019, n=23, Accuracy: 99.73%\n",
      "Thresh=0.027, n=22, Accuracy: 99.72%\n",
      "Thresh=0.028, n=21, Accuracy: 99.72%\n",
      "Thresh=0.029, n=20, Accuracy: 99.72%\n",
      "Thresh=0.038, n=19, Accuracy: 99.72%\n",
      "Thresh=0.039, n=18, Accuracy: 99.73%\n",
      "Thresh=0.039, n=17, Accuracy: 99.72%\n",
      "Thresh=0.042, n=16, Accuracy: 99.72%\n",
      "Thresh=0.042, n=15, Accuracy: 99.73%\n",
      "Thresh=0.044, n=14, Accuracy: 99.72%\n",
      "Thresh=0.044, n=13, Accuracy: 99.72%\n",
      "Thresh=0.044, n=12, Accuracy: 99.73%\n",
      "Thresh=0.045, n=11, Accuracy: 99.72%\n",
      "Thresh=0.045, n=10, Accuracy: 99.73%\n",
      "Thresh=0.047, n=9, Accuracy: 99.72%\n",
      "Thresh=0.047, n=8, Accuracy: 99.72%\n",
      "Thresh=0.047, n=7, Accuracy: 99.72%\n",
      "Thresh=0.050, n=6, Accuracy: 99.72%\n",
      "Thresh=0.050, n=5, Accuracy: 99.72%\n",
      "Thresh=0.053, n=4, Accuracy: 99.72%\n",
      "Thresh=0.054, n=3, Accuracy: 99.72%\n",
      "Thresh=0.058, n=2, Accuracy: 99.72%\n",
      "Thresh=0.068, n=1, Accuracy: 99.72%\n"
     ]
    }
   ],
   "source": [
    "from numpy import sort\n",
    "from sklearn.metrics import accuracy_score\n",
    "from sklearn.feature_selection import SelectFromModel\n",
    "\n",
    "model = XGBClassifier()\n",
    "model.fit(X_train, y_train)\n",
    "y_pred = model.predict(X_test)\n",
    "predictions = [round(value) for value in y_pred]\n",
    "accuracy = accuracy_score(y_test, predictions)\n",
    "print(\"Accuracy: %.2f%%\" % (accuracy * 100.0))\n",
    "\n",
    "thresholds = sort(model.feature_importances_) # Fit model using each importance as a threshold\n",
    "\n",
    "for thresh in thresholds:\n",
    "    # select features using threshold\n",
    "    selection = SelectFromModel(model, threshold=thresh, prefit=True) # if prefit=True, you should call transform directly.\n",
    "    select_X_train = selection.transform(X_train)\n",
    "    # train model \n",
    "    selection_model = XGBClassifier()\n",
    "    selection_model.fit(select_X_train, y_train)\n",
    "    # evaluate model\n",
    "    select_X_test = selection.transform(X_test)\n",
    "    y_pred = selection_model.predict(select_X_test)\n",
    "    predictions = [round(value) for value in y_pred]\n",
    "    accuracy = accuracy_score(y_test, predictions)\n",
    "    print(\"Thresh=%.3f, n=%d, Accuracy: %.2f%%\" % (thresh, select_X_train.shape[1], accuracy*100.0))"
   ]
  },
  {
   "cell_type": "code",
   "execution_count": 559,
   "id": "ecda4b85",
   "metadata": {},
   "outputs": [],
   "source": [
    "### Comparison Of Performance"
   ]
  },
  {
   "cell_type": "code",
   "execution_count": 563,
   "id": "8c7d0376",
   "metadata": {},
   "outputs": [
    {
     "data": {
      "text/html": [
       "<div>\n",
       "<style scoped>\n",
       "    .dataframe tbody tr th:only-of-type {\n",
       "        vertical-align: middle;\n",
       "    }\n",
       "\n",
       "    .dataframe tbody tr th {\n",
       "        vertical-align: top;\n",
       "    }\n",
       "\n",
       "    .dataframe thead th {\n",
       "        text-align: right;\n",
       "    }\n",
       "</style>\n",
       "<table border=\"1\" class=\"dataframe\">\n",
       "  <thead>\n",
       "    <tr style=\"text-align: right;\">\n",
       "      <th></th>\n",
       "      <th>Model</th>\n",
       "      <th>Accuracy</th>\n",
       "    </tr>\n",
       "  </thead>\n",
       "  <tbody>\n",
       "    <tr>\n",
       "      <th>0</th>\n",
       "      <td>RandomForestClassifier</td>\n",
       "      <td>0.997305</td>\n",
       "    </tr>\n",
       "    <tr>\n",
       "      <th>1</th>\n",
       "      <td>SVM</td>\n",
       "      <td>0.997228</td>\n",
       "    </tr>\n",
       "    <tr>\n",
       "      <th>3</th>\n",
       "      <td>LogisticRegession</td>\n",
       "      <td>0.996898</td>\n",
       "    </tr>\n",
       "    <tr>\n",
       "      <th>2</th>\n",
       "      <td>DesicionTreeClassifier</td>\n",
       "      <td>0.993403</td>\n",
       "    </tr>\n",
       "    <tr>\n",
       "      <th>4</th>\n",
       "      <td>NaiveBayes</td>\n",
       "      <td>0.372674</td>\n",
       "    </tr>\n",
       "    <tr>\n",
       "      <th>5</th>\n",
       "      <td>Ridge</td>\n",
       "      <td>0.052528</td>\n",
       "    </tr>\n",
       "  </tbody>\n",
       "</table>\n",
       "</div>"
      ],
      "text/plain": [
       "                    Model  Accuracy\n",
       "0  RandomForestClassifier  0.997305\n",
       "1                     SVM  0.997228\n",
       "3       LogisticRegession  0.996898\n",
       "2  DesicionTreeClassifier  0.993403\n",
       "4              NaiveBayes  0.372674\n",
       "5                   Ridge  0.052528"
      ]
     },
     "execution_count": 563,
     "metadata": {},
     "output_type": "execute_result"
    }
   ],
   "source": [
    "model_performances=pd.DataFrame({'Model':['RandomForestClassifier','SVM','DesicionTreeClassifier','LogisticRegession','NaiveBayes','Ridge'],\n",
    "                                 'Accuracy':[RandomForestClassifier_score,SVM_score,DecisionTree_score,Logistic_score,Naive_bayes_score,Ridge_score]})\n",
    "model_performances.sort_values(by = \"Accuracy\",ascending=False)"
   ]
  },
  {
   "cell_type": "markdown",
   "id": "22aca480",
   "metadata": {},
   "source": [
    "### Conclusion\n",
    "1. Data distribution of songs display today's songs features like dancebility, energy, loudness and tempo are quite high. People like fast and loud music.\n",
    "2. According to instrumentalness, liveness and speechness, most of the songs are not live performances and they have lyrics."
   ]
  },
  {
   "cell_type": "code",
   "execution_count": null,
   "id": "f54d42c4",
   "metadata": {},
   "outputs": [],
   "source": []
  }
 ],
 "metadata": {
  "kernelspec": {
   "display_name": "Python 3 (ipykernel)",
   "language": "python",
   "name": "python3"
  },
  "language_info": {
   "codemirror_mode": {
    "name": "ipython",
    "version": 3
   },
   "file_extension": ".py",
   "mimetype": "text/x-python",
   "name": "python",
   "nbconvert_exporter": "python",
   "pygments_lexer": "ipython3",
   "version": "3.9.7"
  }
 },
 "nbformat": 4,
 "nbformat_minor": 5
}

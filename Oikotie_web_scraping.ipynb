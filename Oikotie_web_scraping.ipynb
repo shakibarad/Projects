{
 "cells": [
  {
   "cell_type": "markdown",
   "id": "4e2e0770",
   "metadata": {},
   "source": [
    "### oikotie.fi Dataset Creation(w/ Python BeautifulSoup and Selenium)\n",
    "Scrape a list of jobs to create a dataset "
   ]
  },
  {
   "cell_type": "code",
   "execution_count": 25,
   "id": "3c790286",
   "metadata": {},
   "outputs": [],
   "source": [
    "from bs4 import BeautifulSoup \n",
    "import requests\n",
    "import urllib\n",
    "import pandas as pd\n",
    "import os"
   ]
  },
  {
   "cell_type": "code",
   "execution_count": 26,
   "id": "fb58919b",
   "metadata": {},
   "outputs": [],
   "source": [
    "from selenium import webdriver\n",
    "from selenium.webdriver.common.by import By\n",
    "from selenium.webdriver.chrome.options import Options\n",
    "from selenium.webdriver.support.ui import WebDriverWait\n",
    "from selenium.webdriver.support import expected_conditions\n",
    "from webdriver_manager.chrome import ChromeDriverManager\n",
    "from selenium.webdriver import ActionChains\n",
    "from tqdm import tqdm\n",
    "import time"
   ]
  },
  {
   "cell_type": "code",
   "execution_count": 43,
   "id": "5b5fbe4d",
   "metadata": {},
   "outputs": [
    {
     "name": "stdout",
     "output_type": "stream",
     "text": [
      "Show more button clicked\n",
      "Show more button clicked\n",
      "Show more button clicked\n",
      "Show more button clicked\n",
      "Show more button clicked\n",
      "Show more button clicked\n",
      "Show more button clicked\n",
      "Show more button clicked\n",
      "Show more button clicked\n",
      "Show more button clicked\n",
      "Show more button clicked\n",
      "Show more button clicked\n",
      "No more Show more button\n",
      "324\n"
     ]
    }
   ],
   "source": [
    "from selenium import webdriver    \n",
    "import chromedriver_autoinstaller\n",
    "from selenium.webdriver.chrome.service import Service\n",
    "\n",
    "headers={\"User-Agent\":\"Mozilla/5.0 (Windows NT 10.0; Win64; x64) AppleWebKit/537.36 (KHTML, like Gecko) Chrome/100.0.4896.127 Safari/537.36\"}\n",
    "\n",
    "joblist=[]\n",
    "\n",
    "\n",
    "def getJobs(job_title, location):\n",
    "    getVars = {'hakusana' : job_title, 'kaupunki' : location}\n",
    "    url = ('https://tyopaikat.oikotie.fi/tyopaikat?' + urllib.parse.urlencode(getVars))\n",
    "    chromedriver_autoinstaller.install()\n",
    "    chrome_options = webdriver.ChromeOptions()\n",
    "    chrome_options.add_argument(\"no-sandbox\")\n",
    "    chrome_options.add_argument(\"--disable-extensions\")\n",
    "    chrome_options.add_argument(\"--headless\")\n",
    "    from time import sleep\n",
    "    driver = webdriver.Chrome(service=Service(),options=chrome_options)\n",
    "    driver.get(url)\n",
    "    time.sleep(3)\n",
    "    while True:\n",
    "        try: \n",
    "            show_more = driver.find_element(By.XPATH,\"\"\"//button[.//*[contains(text(),'Näytä lisää')] and not(@disabled)]\"\"\")\n",
    "            driver.execute_script(\"arguments[0].click();\", show_more)\n",
    "            print(\"Show more button clicked\")\n",
    "            time.sleep(2)\n",
    "        except:\n",
    "            print(\"No more Show more button\")\n",
    "            break\n",
    "    page_source = driver.page_source\n",
    "    soup = BeautifulSoup(page_source, \"html.parser\")\n",
    "    jobs=soup.find_all(\"div\",{\"class\":\"job-ad-list-item-wrapper\"})\n",
    "    for item in jobs:\n",
    "        job={\n",
    "           \"title\" : item.find('span', class_='text-clamped title').text.strip(),\n",
    "            \"company\" : item.find('span', class_='employer').text.strip(),\n",
    "            \"company\" : item.find('div', class_='location').text.strip(),\n",
    "            \"link\" : 'https://tyopaikat.oikotie.fi/' + item.a[\"href\"],\n",
    "            \"date\" : item.find('div', class_='end-date') .text.strip()\n",
    "            }\n",
    "        joblist.append(job)\n",
    "        \n",
    "getJobs(\"data\",\"helsinki,espoo\")\n",
    "\n",
    "print(len(joblist))\n",
    "\n"
   ]
  },
  {
   "cell_type": "code",
   "execution_count": 44,
   "id": "e687745e",
   "metadata": {},
   "outputs": [],
   "source": [
    "import pandas as pd"
   ]
  },
  {
   "cell_type": "code",
   "execution_count": 45,
   "id": "01ee4aa3",
   "metadata": {},
   "outputs": [
    {
     "name": "stdout",
     "output_type": "stream",
     "text": [
      "                         title                                 company  \\\n",
      "0  Senior Full Stack Developer  Työntekijä  € \\n              Helsinki   \n",
      "1             Data-Analyytikko                          Espoo, Uusimaa   \n",
      "2                Data Engineer                                Helsinki   \n",
      "3                 Data Manager                                Helsinki   \n",
      "4      Data Platform Architect        Etätyö  \\n              Helsinki   \n",
      "\n",
      "                                                link                date  \n",
      "0  https://tyopaikat.oikotie.fi//avoimet-tyopaika...    Sulkeutuu 09.06.  \n",
      "1  https://tyopaikat.oikotie.fi//avoimet-tyopaika...    Sulkeutuu 25.05.  \n",
      "2  https://tyopaikat.oikotie.fi//avoimet-tyopaika...  10 päivää jäljellä  \n",
      "3  https://tyopaikat.oikotie.fi//avoimet-tyopaika...   5 päivää jäljellä  \n",
      "4  https://tyopaikat.oikotie.fi//avoimet-tyopaika...    Sulkeutuu 23.06.  \n"
     ]
    }
   ],
   "source": [
    "df=pd.DataFrame(joblist)\n",
    "print(df.head())"
   ]
  },
  {
   "cell_type": "code",
   "execution_count": 48,
   "id": "38b88cd5",
   "metadata": {},
   "outputs": [],
   "source": [
    "df.to_csv(\"oikotiejoblist.csv\",index=False)"
   ]
  },
  {
   "cell_type": "code",
   "execution_count": 51,
   "id": "5c2eae77",
   "metadata": {},
   "outputs": [
    {
     "name": "stdout",
     "output_type": "stream",
     "text": [
      "Index(['title', 'company', 'link', 'date'], dtype='object')\n"
     ]
    }
   ],
   "source": [
    "df1=pd.read_csv(\"oikotiejoblist.csv\")\n",
    "print(df1.columns)\n"
   ]
  },
  {
   "cell_type": "code",
   "execution_count": null,
   "id": "22985505",
   "metadata": {},
   "outputs": [],
   "source": []
  },
  {
   "cell_type": "code",
   "execution_count": null,
   "id": "636698cf",
   "metadata": {},
   "outputs": [],
   "source": []
  },
  {
   "cell_type": "code",
   "execution_count": null,
   "id": "0e6b4ed8",
   "metadata": {},
   "outputs": [],
   "source": []
  },
  {
   "cell_type": "code",
   "execution_count": null,
   "id": "3a10e139",
   "metadata": {},
   "outputs": [],
   "source": []
  },
  {
   "cell_type": "code",
   "execution_count": null,
   "id": "784dca1d",
   "metadata": {},
   "outputs": [],
   "source": []
  }
 ],
 "metadata": {
  "kernelspec": {
   "display_name": "Python 3 (ipykernel)",
   "language": "python",
   "name": "python3"
  },
  "language_info": {
   "codemirror_mode": {
    "name": "ipython",
    "version": 3
   },
   "file_extension": ".py",
   "mimetype": "text/x-python",
   "name": "python",
   "nbconvert_exporter": "python",
   "pygments_lexer": "ipython3",
   "version": "3.9.7"
  }
 },
 "nbformat": 4,
 "nbformat_minor": 5
}

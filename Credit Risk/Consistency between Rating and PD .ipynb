{
 "cells": [
  {
   "cell_type": "markdown",
   "id": "d0d65b3d",
   "metadata": {},
   "source": [
    "### Consistency between Rating and PD "
   ]
  },
  {
   "cell_type": "code",
   "execution_count": 19,
   "id": "271b87eb",
   "metadata": {},
   "outputs": [],
   "source": [
    "import pandas as pd\n",
    "import numpy as np\n",
    "import matplotlib.pyplot as plt\n",
    "import seaborn as sns\n",
    "import plotly.express as px\n",
    "import warnings\n",
    "%matplotlib inline\n",
    "warnings.filterwarnings('ignore')"
   ]
  },
  {
   "cell_type": "code",
   "execution_count": 20,
   "id": "5b87a216",
   "metadata": {},
   "outputs": [],
   "source": [
    "df=pd.read_csv(\"Dataset.csv\")"
   ]
  },
  {
   "cell_type": "code",
   "execution_count": 21,
   "id": "f3a4e293",
   "metadata": {},
   "outputs": [
    {
     "data": {
      "text/html": [
       "<div>\n",
       "<style scoped>\n",
       "    .dataframe tbody tr th:only-of-type {\n",
       "        vertical-align: middle;\n",
       "    }\n",
       "\n",
       "    .dataframe tbody tr th {\n",
       "        vertical-align: top;\n",
       "    }\n",
       "\n",
       "    .dataframe thead th {\n",
       "        text-align: right;\n",
       "    }\n",
       "</style>\n",
       "<table border=\"1\" class=\"dataframe\">\n",
       "  <thead>\n",
       "    <tr style=\"text-align: right;\">\n",
       "      <th></th>\n",
       "      <th>PERIOD</th>\n",
       "      <th>CUSTOMER_ID</th>\n",
       "      <th>BRANCH</th>\n",
       "      <th>APPROACH</th>\n",
       "      <th>RATING</th>\n",
       "      <th>PD</th>\n",
       "      <th>LGD</th>\n",
       "      <th>ORIGINAL_EXPOSURE</th>\n",
       "      <th>EAD_AMOUNT</th>\n",
       "      <th>RWA</th>\n",
       "      <th>EXPECTED_LOSS</th>\n",
       "    </tr>\n",
       "  </thead>\n",
       "  <tbody>\n",
       "    <tr>\n",
       "      <th>0</th>\n",
       "      <td>Period1</td>\n",
       "      <td>H136768</td>\n",
       "      <td>Sydney</td>\n",
       "      <td>AIRB</td>\n",
       "      <td>PC2</td>\n",
       "      <td>0.07060</td>\n",
       "      <td>0.316</td>\n",
       "      <td>50000.0</td>\n",
       "      <td>4250.0</td>\n",
       "      <td>4832.7</td>\n",
       "      <td>94.8</td>\n",
       "    </tr>\n",
       "    <tr>\n",
       "      <th>1</th>\n",
       "      <td>Period2</td>\n",
       "      <td>H136768</td>\n",
       "      <td>Sydney</td>\n",
       "      <td>AIRB</td>\n",
       "      <td>PC2</td>\n",
       "      <td>0.07060</td>\n",
       "      <td>0.316</td>\n",
       "      <td>50000.0</td>\n",
       "      <td>25000.0</td>\n",
       "      <td>28235.2</td>\n",
       "      <td>557.7</td>\n",
       "    </tr>\n",
       "    <tr>\n",
       "      <th>2</th>\n",
       "      <td>Period1</td>\n",
       "      <td>G136767</td>\n",
       "      <td>Sydney</td>\n",
       "      <td>AIRB</td>\n",
       "      <td>PC0+</td>\n",
       "      <td>1.00000</td>\n",
       "      <td>0.316</td>\n",
       "      <td>1000.0</td>\n",
       "      <td>0.0</td>\n",
       "      <td>0.0</td>\n",
       "      <td>0.0</td>\n",
       "    </tr>\n",
       "    <tr>\n",
       "      <th>3</th>\n",
       "      <td>Period2</td>\n",
       "      <td>G136767</td>\n",
       "      <td>Sydney</td>\n",
       "      <td>AIRB</td>\n",
       "      <td>PC0+</td>\n",
       "      <td>1.00000</td>\n",
       "      <td>0.316</td>\n",
       "      <td>900.0</td>\n",
       "      <td>0.0</td>\n",
       "      <td>0.0</td>\n",
       "      <td>0.0</td>\n",
       "    </tr>\n",
       "    <tr>\n",
       "      <th>4</th>\n",
       "      <td>Period2</td>\n",
       "      <td>C136711</td>\n",
       "      <td>Sydney</td>\n",
       "      <td>AIRB</td>\n",
       "      <td>PC0+</td>\n",
       "      <td>1.00000</td>\n",
       "      <td>0.316</td>\n",
       "      <td>241.4</td>\n",
       "      <td>0.0</td>\n",
       "      <td>0.0</td>\n",
       "      <td>0.0</td>\n",
       "    </tr>\n",
       "    <tr>\n",
       "      <th>...</th>\n",
       "      <td>...</td>\n",
       "      <td>...</td>\n",
       "      <td>...</td>\n",
       "      <td>...</td>\n",
       "      <td>...</td>\n",
       "      <td>...</td>\n",
       "      <td>...</td>\n",
       "      <td>...</td>\n",
       "      <td>...</td>\n",
       "      <td>...</td>\n",
       "      <td>...</td>\n",
       "    </tr>\n",
       "    <tr>\n",
       "      <th>1604416</th>\n",
       "      <td>Period2</td>\n",
       "      <td>V341740</td>\n",
       "      <td>Kuala Lumpur</td>\n",
       "      <td>FIRB</td>\n",
       "      <td>PC4</td>\n",
       "      <td>0.00353</td>\n",
       "      <td>0.450</td>\n",
       "      <td>783.8</td>\n",
       "      <td>783.8</td>\n",
       "      <td>490.3</td>\n",
       "      <td>1.2</td>\n",
       "    </tr>\n",
       "    <tr>\n",
       "      <th>1604417</th>\n",
       "      <td>Period2</td>\n",
       "      <td>C341721</td>\n",
       "      <td>Kuala Lumpur</td>\n",
       "      <td>FIRB</td>\n",
       "      <td>PC4</td>\n",
       "      <td>0.00353</td>\n",
       "      <td>0.450</td>\n",
       "      <td>921.6</td>\n",
       "      <td>921.6</td>\n",
       "      <td>493.4</td>\n",
       "      <td>1.5</td>\n",
       "    </tr>\n",
       "    <tr>\n",
       "      <th>1604418</th>\n",
       "      <td>Period2</td>\n",
       "      <td>C341721</td>\n",
       "      <td>Kuala Lumpur</td>\n",
       "      <td>FIRB</td>\n",
       "      <td>PC4</td>\n",
       "      <td>0.00353</td>\n",
       "      <td>0.400</td>\n",
       "      <td>1400.7</td>\n",
       "      <td>1400.7</td>\n",
       "      <td>666.6</td>\n",
       "      <td>2.0</td>\n",
       "    </tr>\n",
       "    <tr>\n",
       "      <th>1604419</th>\n",
       "      <td>Period2</td>\n",
       "      <td>W341741</td>\n",
       "      <td>Kuala Lumpur</td>\n",
       "      <td>FIRB</td>\n",
       "      <td>PC3</td>\n",
       "      <td>0.01247</td>\n",
       "      <td>0.450</td>\n",
       "      <td>334.6</td>\n",
       "      <td>334.6</td>\n",
       "      <td>284.5</td>\n",
       "      <td>1.9</td>\n",
       "    </tr>\n",
       "    <tr>\n",
       "      <th>1604420</th>\n",
       "      <td>Period2</td>\n",
       "      <td>W341741</td>\n",
       "      <td>Kuala Lumpur</td>\n",
       "      <td>FIRB</td>\n",
       "      <td>PC3</td>\n",
       "      <td>0.01247</td>\n",
       "      <td>0.400</td>\n",
       "      <td>340.0</td>\n",
       "      <td>340.0</td>\n",
       "      <td>257.0</td>\n",
       "      <td>1.7</td>\n",
       "    </tr>\n",
       "  </tbody>\n",
       "</table>\n",
       "<p>1604421 rows × 11 columns</p>\n",
       "</div>"
      ],
      "text/plain": [
       "          PERIOD CUSTOMER_ID        BRANCH APPROACH RATING       PD    LGD  \\\n",
       "0        Period1     H136768        Sydney     AIRB    PC2  0.07060  0.316   \n",
       "1        Period2     H136768        Sydney     AIRB    PC2  0.07060  0.316   \n",
       "2        Period1     G136767        Sydney     AIRB   PC0+  1.00000  0.316   \n",
       "3        Period2     G136767        Sydney     AIRB   PC0+  1.00000  0.316   \n",
       "4        Period2     C136711        Sydney     AIRB   PC0+  1.00000  0.316   \n",
       "...          ...         ...           ...      ...    ...      ...    ...   \n",
       "1604416  Period2     V341740  Kuala Lumpur     FIRB    PC4  0.00353  0.450   \n",
       "1604417  Period2     C341721  Kuala Lumpur     FIRB    PC4  0.00353  0.450   \n",
       "1604418  Period2     C341721  Kuala Lumpur     FIRB    PC4  0.00353  0.400   \n",
       "1604419  Period2     W341741  Kuala Lumpur     FIRB    PC3  0.01247  0.450   \n",
       "1604420  Period2     W341741  Kuala Lumpur     FIRB    PC3  0.01247  0.400   \n",
       "\n",
       "         ORIGINAL_EXPOSURE  EAD_AMOUNT      RWA  EXPECTED_LOSS  \n",
       "0                  50000.0      4250.0   4832.7           94.8  \n",
       "1                  50000.0     25000.0  28235.2          557.7  \n",
       "2                   1000.0         0.0      0.0            0.0  \n",
       "3                    900.0         0.0      0.0            0.0  \n",
       "4                    241.4         0.0      0.0            0.0  \n",
       "...                    ...         ...      ...            ...  \n",
       "1604416              783.8       783.8    490.3            1.2  \n",
       "1604417              921.6       921.6    493.4            1.5  \n",
       "1604418             1400.7      1400.7    666.6            2.0  \n",
       "1604419              334.6       334.6    284.5            1.9  \n",
       "1604420              340.0       340.0    257.0            1.7  \n",
       "\n",
       "[1604421 rows x 11 columns]"
      ]
     },
     "execution_count": 21,
     "metadata": {},
     "output_type": "execute_result"
    }
   ],
   "source": [
    "df"
   ]
  },
  {
   "cell_type": "code",
   "execution_count": 22,
   "id": "95425697",
   "metadata": {},
   "outputs": [
    {
     "data": {
      "text/plain": [
       "0.00553    195468\n",
       "0.00353    178244\n",
       "0.00247    174292\n",
       "0.00156    149506\n",
       "0.00000    147799\n",
       "0.02500    119565\n",
       "0.00812    112874\n",
       "0.00030    104153\n",
       "0.00104    103047\n",
       "0.01247     66640\n",
       "0.00070     54391\n",
       "0.02307     52849\n",
       "1.00000     44948\n",
       "0.00048     35431\n",
       "0.06396     20286\n",
       "0.07060     15304\n",
       "0.00034     12095\n",
       "0.09863      9239\n",
       "0.14794      3669\n",
       "0.20712      2858\n",
       "0.26926      1763\n",
       "Name: PD, dtype: int64"
      ]
     },
     "execution_count": 22,
     "metadata": {},
     "output_type": "execute_result"
    }
   ],
   "source": [
    "df[\"PD\"].value_counts()"
   ]
  },
  {
   "cell_type": "code",
   "execution_count": 24,
   "id": "feeba9a5",
   "metadata": {},
   "outputs": [],
   "source": [
    "df[\"PD\"]=df[\"PD\"]*100"
   ]
  },
  {
   "cell_type": "code",
   "execution_count": 25,
   "id": "7d525543",
   "metadata": {},
   "outputs": [],
   "source": [
    "df=df[df[\"RATING\"]!=\"PCU\"]"
   ]
  },
  {
   "cell_type": "code",
   "execution_count": 26,
   "id": "2142041a",
   "metadata": {},
   "outputs": [],
   "source": [
    "df=df[df[\"RATING\"]!=\"PCS\"]"
   ]
  },
  {
   "cell_type": "code",
   "execution_count": 27,
   "id": "beec6be8",
   "metadata": {},
   "outputs": [],
   "source": [
    "df=df[df[\"RATING\"]!=\"PCN\"]\n",
    "df=df[df[\"PD\"]!=100]"
   ]
  },
  {
   "cell_type": "code",
   "execution_count": 28,
   "id": "ac87d824",
   "metadata": {},
   "outputs": [],
   "source": [
    "df[\"RATING\"] = df[\"RATING\"].replace([\"PC6+\"], 1)"
   ]
  },
  {
   "cell_type": "code",
   "execution_count": 29,
   "id": "2a9f0e9c",
   "metadata": {},
   "outputs": [],
   "source": [
    "df[\"RATING\"] = df[\"RATING\"].replace([\"PC6-\"], 2)"
   ]
  },
  {
   "cell_type": "code",
   "execution_count": 30,
   "id": "42d619c0",
   "metadata": {},
   "outputs": [],
   "source": [
    "df[\"RATING\"] = df[\"RATING\"].replace([\"PC6\"], 3)\n",
    "df[\"RATING\"] = df[\"RATING\"].replace([\"PC5+\"], 4)\n",
    "df[\"RATING\"] = df[\"RATING\"].replace([\"PC5-\"], 5)\n",
    "df[\"RATING\"] = df[\"RATING\"].replace([\"PC5\"], 6)\n",
    "df[\"RATING\"] = df[\"RATING\"].replace([\"PC4+\"], 7)\n",
    "df[\"RATING\"] = df[\"RATING\"].replace([\"PC4-\"], 8)\n",
    "df[\"RATING\"] = df[\"RATING\"].replace([\"PC4\"], 9)\n",
    "df[\"RATING\"] = df[\"RATING\"].replace([\"PC3+\"], 10)\n",
    "df[\"RATING\"] = df[\"RATING\"].replace([\"PC3-\"], 11)\n",
    "df[\"RATING\"] = df[\"RATING\"].replace([\"PC3\"], 12)\n",
    "df[\"RATING\"] = df[\"RATING\"].replace([\"PC2+\"], 13)\n",
    "df[\"RATING\"] = df[\"RATING\"].replace([\"PC2-\"], 14)\n",
    "df[\"RATING\"] = df[\"RATING\"].replace([\"PC2\"], 15)\n",
    "df[\"RATING\"] = df[\"RATING\"].replace([\"PC1+\"], 16)\n",
    "df[\"RATING\"] = df[\"RATING\"].replace([\"PC1-\"], 17)\n",
    "df[\"RATING\"] = df[\"RATING\"].replace([\"PC1\"], 18)\n",
    "df[\"RATING\"] = df[\"RATING\"].replace([\"PC0+\"], 19)\n",
    "df[\"RATING\"] = df[\"RATING\"].replace([\"PC0-\"], 20)\n",
    "df[\"RATING\"] = df[\"RATING\"].replace([\"PC0\"], 21)\n",
    "\n"
   ]
  },
  {
   "cell_type": "code",
   "execution_count": 58,
   "id": "510d91d3",
   "metadata": {},
   "outputs": [
    {
     "data": {
      "image/png": "[encoded data removed]",
      "text/plain": [
       "<Figure size 864x288 with 1 Axes>"
      ]
     },
     "metadata": {
      "needs_background": "light"
     },
     "output_type": "display_data"
    }
   ],
   "source": [
    "fig, ax = plt.subplots(figsize=(12, 4))\n",
    "plt.scatter(df[\"RATING\"], df[\"PD\"])\n",
    "plt.xticks(np.arange(1, 22, 1.0))\n",
    "labels = [\"PC6+\",\"PC6\",\"PC6-\",\"PC5+\",\"PC5\",\"PC5-\",\"PC4+\",\"PC4\",\"PC4-\",\"PC3+\",\"PC3\",\"PC3-\",\"PC2+\",\"PC2\",\"PC2-\",\n",
    "         \"PC1+\",\"PC1\",\"PC1-\",\"PC0+\",\"PC0\",\"PC0-\",]\n",
    "ax.set_xticklabels(labels)\n",
    "PDF = [0.03, 0.034, 0.048, 0.070, 0.104, 0.143, 0.196, 0.323, 0.536, 0.850, 1.310, 2.038, 3.388, 5.208, 8.285, 12.430, 17.735, 26.845]\n",
    "plt.plot(np.arange(1,19), PDF,\"r\", label=\"PDF\")\n",
    "ax.set_ylabel('PD %')\n",
    "ax.set_xlabel('Rating')\n",
    "plt.legend()\n",
    "plt.savefig('pic.png')\n",
    "#plt.show()\n",
    "plt.show()\n"
   ]
  },
  {
   "cell_type": "code",
   "execution_count": null,
   "id": "706f1b8d",
   "metadata": {},
   "outputs": [],
   "source": []
  },
  {
   "cell_type": "code",
   "execution_count": null,
   "id": "22673ffe",
   "metadata": {},
   "outputs": [],
   "source": []
  },
  {
   "cell_type": "code",
   "execution_count": null,
   "id": "15ca529b",
   "metadata": {},
   "outputs": [],
   "source": []
  },
  {
   "cell_type": "code",
   "execution_count": null,
   "id": "e2500c9c",
   "metadata": {},
   "outputs": [],
   "source": []
  },
  {
   "cell_type": "code",
   "execution_count": null,
   "id": "aa75cf21",
   "metadata": {},
   "outputs": [],
   "source": []
  },
  {
   "cell_type": "code",
   "execution_count": null,
   "id": "34a2cc84",
   "metadata": {},
   "outputs": [],
   "source": []
  },
  {
   "cell_type": "code",
   "execution_count": null,
   "id": "7a8651e6",
   "metadata": {},
   "outputs": [],
   "source": []
  },
  {
   "cell_type": "code",
   "execution_count": null,
   "id": "d7d98b59",
   "metadata": {},
   "outputs": [],
   "source": []
  }
 ],
 "metadata": {
  "kernelspec": {
   "display_name": "Python 3 (ipykernel)",
   "language": "python",
   "name": "python3"
  },
  "language_info": {
   "codemirror_mode": {
    "name": "ipython",
    "version": 3
   },
   "file_extension": ".py",
   "mimetype": "text/x-python",
   "name": "python",
   "nbconvert_exporter": "python",
   "pygments_lexer": "ipython3",
   "version": "3.9.7"
  }
 },
 "nbformat": 4,
 "nbformat_minor": 5
}
